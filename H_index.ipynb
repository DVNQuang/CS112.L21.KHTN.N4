{
  "nbformat": 4,
  "nbformat_minor": 0,
  "metadata": {
    "colab": {
      "name": "H_index",
      "provenance": [],
      "authorship_tag": "ABX9TyNaWr37tHyO6NKBrNnWxEYj",
      "include_colab_link": true
    },
    "kernelspec": {
      "name": "python3",
      "display_name": "Python 3"
    },
    "language_info": {
      "name": "python"
    }
  },
  "cells": [
    {
      "cell_type": "markdown",
      "metadata": {
        "id": "view-in-github",
        "colab_type": "text"
      },
      "source": [
        "<a href=\"https://colab.research.google.com/github/DVNQuang/CS112.L21.KHTN.N4/blob/main/H_index.ipynb\" target=\"_parent\"><img src=\"https://colab.research.google.com/assets/colab-badge.svg\" alt=\"Open In Colab\"/></a>"
      ]
    },
    {
      "cell_type": "code",
      "metadata": {
        "id": "bRHz1uqBj4GI"
      },
      "source": [
        "import numpy"
      ],
      "execution_count": 5,
      "outputs": []
    },
    {
      "cell_type": "code",
      "metadata": {
        "colab": {
          "base_uri": "https://localhost:8080/"
        },
        "id": "_Z_Canmdj7vn",
        "outputId": "c41a9310-5692-4274-8d55-7048e1cea854"
      },
      "source": [
        "def check(arr, n):\n",
        "  for i in range(n - 1, -1, -1):\n",
        "    if arr[i] >= i + 1:\n",
        "      print(i + 1)\n",
        "      break\n",
        "  else:\n",
        "    print(0)\n",
        "\n",
        "n = int(input())\n",
        "arr = [int(x) for x in input().split()]\n",
        "arr.sort(reverse = True)\n",
        "check(arr, n)"
      ],
      "execution_count": 25,
      "outputs": [
        {
          "output_type": "stream",
          "text": [
            "5\n",
            "3 9 29 29 19\n",
            "4\n"
          ],
          "name": "stdout"
        }
      ]
    }
  ]
}