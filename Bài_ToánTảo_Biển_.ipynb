{
  "nbformat": 4,
  "nbformat_minor": 0,
  "metadata": {
    "colab": {
      "name": "Bài ToánTảo Biển .ipynb",
      "provenance": [],
      "collapsed_sections": [],
      "authorship_tag": "ABX9TyMFwZvCiq3Mt76BqVMgQz4y",
      "include_colab_link": true
    },
    "kernelspec": {
      "name": "python3",
      "display_name": "Python 3"
    }
  },
  "cells": [
    {
      "cell_type": "markdown",
      "metadata": {
        "id": "view-in-github",
        "colab_type": "text"
      },
      "source": [
        "<a href=\"https://colab.research.google.com/github/DVNQuang/CS112.L21.KHTN.N4/blob/main/B%C3%A0i_To%C3%A1nT%E1%BA%A3o_Bi%E1%BB%83n_.ipynb\" target=\"_parent\"><img src=\"https://colab.research.google.com/assets/colab-badge.svg\" alt=\"Open In Colab\"/></a>"
      ]
    },
    {
      "cell_type": "markdown",
      "metadata": {
        "id": "qWyxQ0JWfF-8"
      },
      "source": [
        "# **Bài Toán Tảo Biển**\n",
        "\n",
        "# Abstraction\n",
        "> Với input là $n$, $k$, tính $T = n * f(2k)$ với $f(2k)$ là hàm tính tổng dãy số Fibonacci tại phần tử thứ $2k$\n",
        "\n",
        "\n",
        "\n",
        "\n",
        "\n",
        "# Pattern Recognition\n",
        "\n",
        "\n",
        " #  Algorithm designed\n",
        "\n",
        "\n",
        "\n",
        "\n",
        "\n",
        "\n",
        "\n",
        "\n",
        "\n"
      ]
    }
  ]
}