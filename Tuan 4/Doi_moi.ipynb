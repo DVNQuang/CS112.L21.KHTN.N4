{
  "nbformat": 4,
  "nbformat_minor": 0,
  "metadata": {
    "colab": {
      "name": "Doi_moi.ipynb",
      "provenance": [],
      "authorship_tag": "ABX9TyOVPs7c1nej4PoHz4Dmrw5J",
      "include_colab_link": true
    },
    "kernelspec": {
      "name": "python3",
      "display_name": "Python 3"
    },
    "language_info": {
      "name": "python"
    }
  },
  "cells": [
    {
      "cell_type": "markdown",
      "metadata": {
        "id": "view-in-github",
        "colab_type": "text"
      },
      "source": [
        "<a href=\"https://colab.research.google.com/github/DVNQuang/CS112.L21.KHTN.N4/blob/main/Tuan%204/Doi_moi.ipynb\" target=\"_parent\"><img src=\"https://colab.research.google.com/assets/colab-badge.svg\" alt=\"Open In Colab\"/></a>"
      ]
    },
    {
      "cell_type": "code",
      "metadata": {
        "colab": {
          "base_uri": "https://localhost:8080/"
        },
        "id": "rB9xhjG7Mk28",
        "outputId": "cf34e6f0-f0ae-4216-b8b3-fd0cb424805a"
      },
      "source": [
        "# Vet can\n",
        "a, k, b, m, n = (int(x) for x in input().split())\n",
        "s = 0\n",
        "day = 1\n",
        "while 1:\n",
        "  if day != k:\n",
        "    s += a\n",
        "  if day != m:\n",
        "    s += b\n",
        "  day += 1\n",
        "  if s >= n:\n",
        "    break\n",
        "print(day)"
      ],
      "execution_count": 32,
      "outputs": [
        {
          "output_type": "stream",
          "text": [
            "2 4 3 3 25\n",
            "7\n"
          ],
          "name": "stdout"
        }
      ]
    },
    {
      "cell_type": "code",
      "metadata": {
        "colab": {
          "base_uri": "https://localhost:8080/"
        },
        "id": "fB1-0Xy_Rb_N",
        "outputId": "9a65c1bf-94fe-4a76-96ca-cb833ac05c48"
      },
      "source": [
        "a, k, b, m, n = (int(x) for x in input().split())\n",
        "s = 0\n",
        "x = int(n / (a + b))\n",
        "while 1: \n",
        "  temp = (a + b) * x - a * int(x / k) - b * int(x / m)\n",
        "  if temp - n > a + b:\n",
        "    x -= 1\n",
        "    continue\n",
        "  if temp >= n:\n",
        "    break\n",
        "  if int((n-temp) / (a+b)) > 1:\n",
        "    x += int((n-temp) / (a+b))\n",
        "  else:\n",
        "    x += 1\n",
        "print(x)"
      ],
      "execution_count": 55,
      "outputs": [
        {
          "output_type": "stream",
          "text": [
            "2 4 3 3 25\n",
            "7\n"
          ],
          "name": "stdout"
        }
      ]
    }
  ]
}