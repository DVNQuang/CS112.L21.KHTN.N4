{
  "nbformat": 4,
  "nbformat_minor": 0,
  "metadata": {
    "colab": {
      "name": "Doi_moi.ipynb",
      "provenance": [],
      "authorship_tag": "ABX9TyPBbOtAvI2gg7I9LGT/co64",
      "include_colab_link": true
    },
    "kernelspec": {
      "name": "python3",
      "display_name": "Python 3"
    },
    "language_info": {
      "name": "python"
    }
  },
  "cells": [
    {
      "cell_type": "markdown",
      "metadata": {
        "id": "view-in-github",
        "colab_type": "text"
      },
      "source": [
        "<a href=\"https://colab.research.google.com/github/DVNQuang/CS112.L21.KHTN.N4/blob/main/Tuan%204/Doi_moi.ipynb\" target=\"_parent\"><img src=\"https://colab.research.google.com/assets/colab-badge.svg\" alt=\"Open In Colab\"/></a>"
      ]
    },
    {
      "cell_type": "code",
      "metadata": {
        "colab": {
          "base_uri": "https://localhost:8080/"
        },
        "id": "rB9xhjG7Mk28",
        "outputId": "f8835fe9-a736-4ee2-94fb-33cdf12e4908"
      },
      "source": [
        "# Vet can\n",
        "a, k, b, m, n = (int(x) for x in input().split())\n",
        "s = 0\n",
        "day = 1\n",
        "while 1:\n",
        "  if day != k:\n",
        "    s += a\n",
        "  if day != m:\n",
        "    s += b\n",
        "  day += 1\n",
        "  if s >= n:\n",
        "    break\n",
        "\n",
        "n <= s1 + s2\n",
        "n <= a * x - k + b * x - m\n",
        "print(day)"
      ],
      "execution_count": 16,
      "outputs": [
        {
          "output_type": "stream",
          "text": [
            "2 4 3 3 25\n",
            "7\n"
          ],
          "name": "stdout"
        }
      ]
    },
    {
      "cell_type": "code",
      "metadata": {
        "id": "o1_7Z3dLPKPt"
      },
      "source": [
        "a, k, b, m, n = (int(x) for x in input().split())\n",
        "s = 0\n",
        "day = 1"
      ],
      "execution_count": null,
      "outputs": []
    },
    {
      "cell_type": "code",
      "metadata": {
        "colab": {
          "base_uri": "https://localhost:8080/"
        },
        "id": "M1n-JM4QQtpM",
        "outputId": "012ea2a7-ade6-4518-baa1-356a4ec25d91"
      },
      "source": [
        "a, k, b, m, n = (int(x) for x in input().split())\n",
        "s = 0\n",
        "x = 1\n",
        "while 1: \n",
        "  if n <= a * x - n / k + b * x - n / m:\n",
        "    break\n",
        "  x += 1\n",
        "print(x - 1)"
      ],
      "execution_count": 19,
      "outputs": [
        {
          "output_type": "stream",
          "text": [
            "2 4 3 3 25\n",
            "7\n"
          ],
          "name": "stdout"
        }
      ]
    },
    {
      "cell_type": "code",
      "metadata": {
        "colab": {
          "base_uri": "https://localhost:8080/"
        },
        "id": "fB1-0Xy_Rb_N",
        "outputId": "01f179cc-9524-49cf-f4a0-bfd0a4c63df5"
      },
      "source": [
        "a, k, b, m, n = (int(x) for x in input().split())\n",
        "s = 0\n",
        "x = 1\n",
        "while 1: \n",
        "  if (a + b) * x - a * int(x / k) - b * int(x / m) >= n:\n",
        "    break\n",
        "  x += 1\n",
        "print(x)"
      ],
      "execution_count": 27,
      "outputs": [
        {
          "output_type": "stream",
          "text": [
            "2 4 3 3 25\n",
            "7\n"
          ],
          "name": "stdout"
        }
      ]
    },
    {
      "cell_type": "code",
      "metadata": {
        "colab": {
          "base_uri": "https://localhost:8080/"
        },
        "id": "t8Oxq7msSCDB",
        "outputId": "cc5fd064-52a6-4cfe-c9eb-58aa22fca798"
      },
      "source": [
        "x = 7\n",
        "k = 4\n",
        "res = int(x / k)\n",
        "print(res)"
      ],
      "execution_count": 25,
      "outputs": [
        {
          "output_type": "stream",
          "text": [
            "1\n"
          ],
          "name": "stdout"
        }
      ]
    }
  ]
}