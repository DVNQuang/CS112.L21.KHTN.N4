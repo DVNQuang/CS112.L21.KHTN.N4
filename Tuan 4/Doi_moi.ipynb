{
  "nbformat": 4,
  "nbformat_minor": 0,
  "metadata": {
    "colab": {
      "name": "Doi_moi.ipynb",
      "provenance": [],
      "include_colab_link": true
    },
    "kernelspec": {
      "name": "python3",
      "display_name": "Python 3"
    },
    "language_info": {
      "name": "python"
    }
  },
  "cells": [
    {
      "cell_type": "markdown",
      "metadata": {
        "id": "view-in-github",
        "colab_type": "text"
      },
      "source": [
        "<a href=\"https://colab.research.google.com/github/DVNQuang/CS112.L21.KHTN.N4/blob/main/Tuan%204/Doi_moi.ipynb\" target=\"_parent\"><img src=\"https://colab.research.google.com/assets/colab-badge.svg\" alt=\"Open In Colab\"/></a>"
      ]
    },
    {
      "cell_type": "markdown",
      "metadata": {
        "id": "4WSLJjreCE18"
      },
      "source": [
        "# **Đổi mới**\n",
        "Thành phố quyết định chặt hạ hết $n$ cây xanh hiện có trong thành phố để trồng chỉ một loại cây mới. Nhiệm vụ được giao cho Công ty Cây xanh thành phố. Do hạn chế về thiết bị Công ty chỉ tổ chức được 2 đội đốn hạ cây. Đội I hạ được $a$ cây mỗi ngày, nhưng cứ mối ngày thứ $k$ thì phải nghỉ để bảo dưỡng kỹ thuật, tức là đội I sẽ nghỉ vào các ngày $k$, $2k$, $3k$, . . . Đội II hạ được $b$ cây mỗi ngày, nhưng cứ mỗi ngày thứ $m$ thì phải nghỉ để bảo dưỡng kỹ thuật, tức là đội II sẽ nghỉ vào các ngày $m$, $2m$, $3m$, . . . Ở ngày nghỉ, số cây chặt hạ của đội sẽ là 0. Cả hai đội bắt đầu công việc vào cùng một ngày và làm việc song song với nhau.\n",
        "\n",
        "Công việc trồng cây mới sẽ bắt đầu sau khi toàn bộ cây cũ đã bị đốn hạ.\n",
        "\n",
        "Hãy xác định sau bao nhiêu ngày thì có thể bắt đầu việc trồng mới cây.\n",
        "\n",
        "Dữ liệu: Vào từ thiết bị nhập chuẩn gồm một dòng chứa 5 số nguyên $a, k,b, m, n$  $(1 ≤ a, b ≤ 10^9, 2 ≤ k, m ≤ 10^{18}, 1 ≤ n ≤ 10^{18})$.\n",
        "\n",
        "Kết quả: Đưa ra thiết bị xuất chuẩn một số nguyên – số ngày tính được.\n",
        "\n",
        "\n",
        "\n",
        "\n"
      ]
    },
    {
      "cell_type": "markdown",
      "metadata": {
        "id": "tPmzaXw5Fsly"
      },
      "source": [
        "# Abstraction\n",
        "\n",
        " Cho các tham số  $a, k,b, m, n$ $(1 ≤ a, b ≤ 10^9, 2 ≤ k, m ≤ 10^{18}, 1 ≤ n ≤ 10^{18})$, tìm nghiệm nhỏ nhất của bất phương trình   $f(x) = a(x - \\left\\lfloor \\frac{x}{k} \\right\\rfloor)  + b(x - \\left\\lfloor \\frac{x}{m} \\right\\rfloor) \\geq n$\n",
        "\n",
        " # Pattern Recognition\n",
        "\n",
        "\n",
        " # Algorithm Design\n",
        "  Điểm bắt đầu của thuật toán vét cạn $x_0 = \\left\\lfloor \\frac{n}{a+b} \\right\\rfloor$\n",
        "\n",
        " Gọi số cây 2 team chặt được lần lượt là $team_a, team_b$ \n",
        "\n",
        " **While** true:\n",
        "\n",
        " >  $team_a =  a(x - \\left\\lfloor \\frac{x}{k} \\right\\rfloor)$\n",
        "\n",
        " >  $team_b =  b(x - \\left\\lfloor \\frac{x}{m} \\right\\rfloor)$\n",
        "\n",
        "> **If**  $team_a + team_b \\geq n$ : **break**\n",
        "\n",
        "> **If** Số cây còn lại lớn hơn tổng số cây 2 đội chặt được mỗi ngày :  \n",
        ">> $x=x+\\left\\lfloor \\frac{n-team_a-team_b}{a+b} \\right\\rfloor$\n",
        "\n",
        "> **Else** $x=x+1$\n",
        "\n",
        "#Độ phức tạp thuật toán\n",
        "\n",
        "$O(n)$\n",
        "\n",
        "#Programming\n"
      ]
    },
    {
      "cell_type": "code",
      "metadata": {
        "id": "8Qd1Cskaevt2"
      },
      "source": [
        "import math"
      ],
      "execution_count": null,
      "outputs": []
    },
    {
      "cell_type": "code",
      "metadata": {
        "colab": {
          "base_uri": "https://localhost:8080/"
        },
        "id": "rB9xhjG7Mk28",
        "outputId": "cf34e6f0-f0ae-4216-b8b3-fd0cb424805a"
      },
      "source": [
        "# Giải bằng phương pháp Vét cạn\n",
        "a, k, b, m, n = (int(x) for x in input().split())\n",
        "s = 0\n",
        "day = 1\n",
        "while 1:\n",
        "  if day != k:\n",
        "    s += a\n",
        "  if day != m:\n",
        "    s += b\n",
        "  day += 1\n",
        "  if s >= n:\n",
        "    break\n",
        "print(day)"
      ],
      "execution_count": null,
      "outputs": [
        {
          "output_type": "stream",
          "text": [
            "2 4 3 3 25\n",
            "7\n"
          ],
          "name": "stdout"
        }
      ]
    },
    {
      "cell_type": "code",
      "metadata": {
        "colab": {
          "base_uri": "https://localhost:8080/"
        },
        "id": "fB1-0Xy_Rb_N",
        "outputId": "c1639239-c8d2-4687-8dbf-c76d516f1942"
      },
      "source": [
        "import math\n",
        "a, k, b, m, n = (int(x) for x in input().split())\n",
        "s = 0\n",
        "x = math.floor(n / (a + b))\n",
        "while 1: \n",
        "  temp = (a + b) * x - a * int(x / k) - b * int(x / m)\n",
        "  if temp >= n:\n",
        "    break\n",
        "  if math.floor((n-temp) / (a+b)) > 1:\n",
        "    x += math.floor((n-temp) / (a+b))\n",
        "  else:\n",
        "    x += 1\n",
        "print(x)"
      ],
      "execution_count": null,
      "outputs": [
        {
          "output_type": "stream",
          "text": [
            "8374 4534 3 433 54785643\n",
            "6542\n"
          ],
          "name": "stdout"
        }
      ]
    },
    {
      "cell_type": "code",
      "metadata": {
        "colab": {
          "base_uri": "https://localhost:8080/"
        },
        "id": "0hw8BaYaF-FJ",
        "outputId": "cbf30cb0-5484-429a-a1e8-af889723aa19"
      },
      "source": [
        "import math\n",
        "a, k, b, m, n = (int(x) for x in input().split())\n",
        "\n",
        "temp = int(n / ((a + b)- a / k - b / m))\n",
        "for res in range(temp - 10**3, temp + 10**3):\n",
        "  s = (a + b) * res - a * int(res / k) - b * int(res / m)\n",
        "  if s >= n:\n",
        "    print(res)\n",
        "    break\n"
      ],
      "execution_count": null,
      "outputs": [
        {
          "output_type": "stream",
          "text": [
            "40 2 3 4 44\n",
            "2\n"
          ],
          "name": "stdout"
        }
      ]
    },
    {
      "cell_type": "code",
      "metadata": {
        "colab": {
          "base_uri": "https://localhost:8080/"
        },
        "id": "4S_r-bo6mTKI",
        "outputId": "d191ca49-d0f7-4208-b0ca-83bafb06497c"
      },
      "source": [
        "import math\n",
        "def binary_search_fix(low, high, a, b, k, m, n):\n",
        "    if high >= low:\n",
        "        \n",
        "        day = (high + low) // 2\n",
        "        team_a = a * day - a *(day // k)\n",
        "        team_b = b * day - b *(day // m)\n",
        "\n",
        "        team_a_pre = a * (day - 1) - a *((day - 1) // k)\n",
        "        team_b_pre = b * (day - 1) - b *((day - 1) // m)\n",
        "\n",
        "        if team_a + team_b >= n and team_a_pre + team_b_pre < n:\n",
        "            return day\n",
        " \n",
        "        elif  team_a_pre + team_b_pre >= n:\n",
        "            return binary_search_fix(low, day - 1, a, b, k, m, n)\n",
        " \n",
        "        else:\n",
        "            return binary_search_fix(day + 1, high, a, b, k, m, n)\n",
        "\n",
        "a, k, b, m, n = (int(x) for x in input().split())\n",
        "res = binary_search_fix(1, 10**18, a, b, k, m, n)\n",
        "print(res)\n",
        "#success"
      ],
      "execution_count": null,
      "outputs": [
        {
          "output_type": "stream",
          "text": [
            "2 4 3 3 25\n",
            "7\n"
          ],
          "name": "stdout"
        }
      ]
    },
    {
      "cell_type": "code",
      "metadata": {
        "colab": {
          "base_uri": "https://localhost:8080/"
        },
        "id": "yksiZlkeqXHB",
        "outputId": "922c498d-b8a3-4c0b-c59d-1452278f31cc"
      },
      "source": [
        "import math\n",
        "a, k, b, m, n = (int(x) for x in input().split())\n",
        "team_a = a * day - a *(day // k)\n",
        "team_b = b * day - b *(day // m)\n",
        "  while 1: \n",
        "    team_a = a * day - a *(day // k)\n",
        "    team_b = b * day - b *(day // m)\n",
        "    temp = (a + b) * x - a * math.floor(x / k) - b * math.floor(x / m)\n",
        "    if temp >= n:\n",
        "      break\n",
        "    if (n-temp) / (a+b) > 1:\n",
        "      x += math.floor((n-temp) / (a+b))\n",
        "    else:\n",
        "      x += 1\n",
        "  print(x)\n",
        "else:\n",
        "\n"
      ],
      "execution_count": null,
      "outputs": [
        {
          "output_type": "stream",
          "text": [
            "500000000000000000\n"
          ],
          "name": "stdout"
        }
      ]
    },
    {
      "cell_type": "code",
      "metadata": {
        "colab": {
          "base_uri": "https://localhost:8080/"
        },
        "id": "SaH8spYLw-dP",
        "outputId": "749363c2-a9b5-4904-ecf2-235fdb8883e8"
      },
      "source": [
        "import math\n",
        "a, k, b, m, n = (int(x) for x in input().split())\n",
        "s = 0\n",
        "x = math.floor(n / (a + b))\n",
        "while 1: \n",
        "  team_a = a * x - a *(x // k)\n",
        "  team_b = b * x - b *(x // m)\n",
        "  if team_a + team_b >= n:\n",
        "    break\n",
        "  if math.floor((n - team_a - team_b) / (a+b)) > 1:\n",
        "    x += math.floor((n - team_a - team_b) / (a+b))\n",
        "  else:\n",
        "    x += 1\n",
        "print(x)\n",
        "#success"
      ],
      "execution_count": null,
      "outputs": [
        {
          "output_type": "stream",
          "text": [
            "3324 32 132 12 34523742\n",
            "10333\n"
          ],
          "name": "stdout"
        }
      ]
    }
  ]
}