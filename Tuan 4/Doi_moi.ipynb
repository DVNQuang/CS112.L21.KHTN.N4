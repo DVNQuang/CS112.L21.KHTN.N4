{
  "nbformat": 4,
  "nbformat_minor": 0,
  "metadata": {
    "colab": {
      "name": "Doi_moi.ipynb",
      "provenance": [],
      "authorship_tag": "ABX9TyOBnNWylHufBg4nbaTiSmUS",
      "include_colab_link": true
    },
    "kernelspec": {
      "name": "python3",
      "display_name": "Python 3"
    },
    "language_info": {
      "name": "python"
    }
  },
  "cells": [
    {
      "cell_type": "markdown",
      "metadata": {
        "id": "view-in-github",
        "colab_type": "text"
      },
      "source": [
        "<a href=\"https://colab.research.google.com/github/DVNQuang/CS112.L21.KHTN.N4/blob/main/Tuan%204/Doi_moi.ipynb\" target=\"_parent\"><img src=\"https://colab.research.google.com/assets/colab-badge.svg\" alt=\"Open In Colab\"/></a>"
      ]
    },
    {
      "cell_type": "code",
      "metadata": {
        "id": "8Qd1Cskaevt2"
      },
      "source": [
        "import math"
      ],
      "execution_count": 2,
      "outputs": []
    },
    {
      "cell_type": "code",
      "metadata": {
        "colab": {
          "base_uri": "https://localhost:8080/"
        },
        "id": "rB9xhjG7Mk28",
        "outputId": "cf34e6f0-f0ae-4216-b8b3-fd0cb424805a"
      },
      "source": [
        "# Vet can\n",
        "a, k, b, m, n = (int(x) for x in input().split())\n",
        "s = 0\n",
        "day = 1\n",
        "while 1:\n",
        "  if day != k:\n",
        "    s += a\n",
        "  if day != m:\n",
        "    s += b\n",
        "  day += 1\n",
        "  if s >= n:\n",
        "    break\n",
        "print(day)"
      ],
      "execution_count": 32,
      "outputs": [
        {
          "output_type": "stream",
          "text": [
            "2 4 3 3 25\n",
            "7\n"
          ],
          "name": "stdout"
        }
      ]
    },
    {
      "cell_type": "code",
      "metadata": {
        "colab": {
          "base_uri": "https://localhost:8080/"
        },
        "id": "fB1-0Xy_Rb_N",
        "outputId": "19e6deef-ca11-4173-ab04-1eae98568067"
      },
      "source": [
        "import math\n",
        "a, k, b, m, n = (int(x) for x in input().split())\n",
        "s = 0\n",
        "x = math.floor(n / (a + b))\n",
        "while 1: \n",
        "  temp = (a + b) * x - a * int(x / k) - b * int(x / m)\n",
        "  if temp >= n:\n",
        "    break\n",
        "  if math.floor((n-temp) / (a+b)) > 1:\n",
        "    x += math.floor((n-temp) / (a+b))\n",
        "  else:\n",
        "    x += 1\n",
        "print(x)"
      ],
      "execution_count": 66,
      "outputs": [
        {
          "output_type": "stream",
          "text": [
            "2 4 3 3 25\n",
            "7\n"
          ],
          "name": "stdout"
        }
      ]
    },
    {
      "cell_type": "code",
      "metadata": {
        "colab": {
          "base_uri": "https://localhost:8080/"
        },
        "id": "0hw8BaYaF-FJ",
        "outputId": "cbf30cb0-5484-429a-a1e8-af889723aa19"
      },
      "source": [
        "import math\n",
        "a, k, b, m, n = (int(x) for x in input().split())\n",
        "\n",
        "temp = int(n / ((a + b)- a / k - b / m))\n",
        "for res in range(temp - 10**3, temp + 10**3):\n",
        "  s = (a + b) * res - a * int(res / k) - b * int(res / m)\n",
        "  if s >= n:\n",
        "    print(res)\n",
        "    break\n"
      ],
      "execution_count": 8,
      "outputs": [
        {
          "output_type": "stream",
          "text": [
            "40 2 3 4 44\n",
            "2\n"
          ],
          "name": "stdout"
        }
      ]
    },
    {
      "cell_type": "code",
      "metadata": {
        "id": "4S_r-bo6mTKI",
        "outputId": "d191ca49-d0f7-4208-b0ca-83bafb06497c",
        "colab": {
          "base_uri": "https://localhost:8080/"
        }
      },
      "source": [
        "import math\n",
        "def binary_search_fix(low, high, a, b, k, m, n):\n",
        "    if high >= low:\n",
        "        \n",
        "        day = (high + low) // 2\n",
        "        team_a = a * day - a *(day // k)\n",
        "        team_b = b * day - b *(day // m)\n",
        "\n",
        "        team_a_pre = a * (day - 1) - a *((day - 1) // k)\n",
        "        team_b_pre = b * (day - 1) - b *((day - 1) // m)\n",
        "\n",
        "        if team_a + team_b >= n and team_a_pre + team_b_pre < n:\n",
        "            return day\n",
        " \n",
        "        elif  team_a_pre + team_b_pre >= n:\n",
        "            return binary_search_fix(low, day - 1, a, b, k, m, n)\n",
        " \n",
        "        else:\n",
        "            return binary_search_fix(day + 1, high, a, b, k, m, n)\n",
        "\n",
        "a, k, b, m, n = (int(x) for x in input().split())\n",
        "res = binary_search_fix(1, 10**18, a, b, k, m, n)\n",
        "print(res)\n",
        "#success"
      ],
      "execution_count": 69,
      "outputs": [
        {
          "output_type": "stream",
          "text": [
            "2 4 3 3 25\n",
            "7\n"
          ],
          "name": "stdout"
        }
      ]
    },
    {
      "cell_type": "code",
      "metadata": {
        "id": "yksiZlkeqXHB",
        "outputId": "922c498d-b8a3-4c0b-c59d-1452278f31cc",
        "colab": {
          "base_uri": "https://localhost:8080/"
        }
      },
      "source": [
        "import math\n",
        "a, k, b, m, n = (int(x) for x in input().split())\n",
        "team_a = a * day - a *(day // k)\n",
        "team_b = b * day - b *(day // m)\n",
        "  while 1: \n",
        "    team_a = a * day - a *(day // k)\n",
        "    team_b = b * day - b *(day // m)\n",
        "    temp = (a + b) * x - a * math.floor(x / k) - b * math.floor(x / m)\n",
        "    if temp >= n:\n",
        "      break\n",
        "    if (n-temp) / (a+b) > 1:\n",
        "      x += math.floor((n-temp) / (a+b))\n",
        "    else:\n",
        "      x += 1\n",
        "  print(x)\n",
        "else:\n",
        "\n"
      ],
      "execution_count": 41,
      "outputs": [
        {
          "output_type": "stream",
          "text": [
            "500000000000000000\n"
          ],
          "name": "stdout"
        }
      ]
    },
    {
      "cell_type": "code",
      "metadata": {
        "id": "SaH8spYLw-dP",
        "outputId": "c74f5b24-45d8-4aa0-d8dc-0952775f6457",
        "colab": {
          "base_uri": "https://localhost:8080/"
        }
      },
      "source": [
        "n = 10**18\n",
        "a = 1\n",
        "b = 2\n",
        "x = (10**16 // 3)\n",
        "temp = (a + b) * x - a * int(x / k) - b * int(x / m)\n",
        "print(n - temp)\n",
        "x = x + (n - temp) // 3\n",
        "print(x)"
      ],
      "execution_count": 62,
      "outputs": [
        {
          "output_type": "stream",
          "text": [
            "993055555555555556\n",
            "334351851851851851\n"
          ],
          "name": "stdout"
        }
      ]
    }
  ]
}