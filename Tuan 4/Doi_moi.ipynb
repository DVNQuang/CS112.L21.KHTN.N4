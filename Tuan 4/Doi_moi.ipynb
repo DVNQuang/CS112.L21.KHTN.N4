{
  "nbformat": 4,
  "nbformat_minor": 0,
  "metadata": {
    "colab": {
      "name": "Doi_moi.ipynb",
      "provenance": [],
      "authorship_tag": "ABX9TyN4GkcSUw46IzxYnGJxnNhm",
      "include_colab_link": true
    },
    "kernelspec": {
      "name": "python3",
      "display_name": "Python 3"
    },
    "language_info": {
      "name": "python"
    }
  },
  "cells": [
    {
      "cell_type": "markdown",
      "metadata": {
        "id": "view-in-github",
        "colab_type": "text"
      },
      "source": [
        "<a href=\"https://colab.research.google.com/github/DVNQuang/CS112.L21.KHTN.N4/blob/main/Tuan%204/Doi_moi.ipynb\" target=\"_parent\"><img src=\"https://colab.research.google.com/assets/colab-badge.svg\" alt=\"Open In Colab\"/></a>"
      ]
    },
    {
      "cell_type": "code",
      "metadata": {
        "id": "8Qd1Cskaevt2"
      },
      "source": [
        "import math"
      ],
      "execution_count": 2,
      "outputs": []
    },
    {
      "cell_type": "code",
      "metadata": {
        "colab": {
          "base_uri": "https://localhost:8080/"
        },
        "id": "rB9xhjG7Mk28",
        "outputId": "cf34e6f0-f0ae-4216-b8b3-fd0cb424805a"
      },
      "source": [
        "# Vet can\n",
        "a, k, b, m, n = (int(x) for x in input().split())\n",
        "s = 0\n",
        "day = 1\n",
        "while 1:\n",
        "  if day != k:\n",
        "    s += a\n",
        "  if day != m:\n",
        "    s += b\n",
        "  day += 1\n",
        "  if s >= n:\n",
        "    break\n",
        "print(day)"
      ],
      "execution_count": 32,
      "outputs": [
        {
          "output_type": "stream",
          "text": [
            "2 4 3 3 25\n",
            "7\n"
          ],
          "name": "stdout"
        }
      ]
    },
    {
      "cell_type": "code",
      "metadata": {
        "colab": {
          "base_uri": "https://localhost:8080/"
        },
        "id": "fB1-0Xy_Rb_N",
        "outputId": "19e6deef-ca11-4173-ab04-1eae98568067"
      },
      "source": [
        "import math\n",
        "a, k, b, m, n = (int(x) for x in input().split())\n",
        "s = 0\n",
        "x = math.floor(n / (a + b))\n",
        "while 1: \n",
        "  temp = (a + b) * x - a * int(x / k) - b * int(x / m)\n",
        "  if temp >= n:\n",
        "    break\n",
        "  if math.floor((n-temp) / (a+b)) > 1:\n",
        "    x += math.floor((n-temp) / (a+b))\n",
        "  else:\n",
        "    x += 1\n",
        "print(x)"
      ],
      "execution_count": 66,
      "outputs": [
        {
          "output_type": "stream",
          "text": [
            "2 4 3 3 25\n",
            "7\n"
          ],
          "name": "stdout"
        }
      ]
    },
    {
      "cell_type": "code",
      "metadata": {
        "colab": {
          "base_uri": "https://localhost:8080/"
        },
        "id": "0hw8BaYaF-FJ",
        "outputId": "cbf30cb0-5484-429a-a1e8-af889723aa19"
      },
      "source": [
        "import math\n",
        "a, k, b, m, n = (int(x) for x in input().split())\n",
        "\n",
        "temp = int(n / ((a + b)- a / k - b / m))\n",
        "for res in range(temp - 10**3, temp + 10**3):\n",
        "  s = (a + b) * res - a * int(res / k) - b * int(res / m)\n",
        "  if s >= n:\n",
        "    print(res)\n",
        "    break\n"
      ],
      "execution_count": 8,
      "outputs": [
        {
          "output_type": "stream",
          "text": [
            "40 2 3 4 44\n",
            "2\n"
          ],
          "name": "stdout"
        }
      ]
    },
    {
      "cell_type": "code",
      "metadata": {
        "colab": {
          "base_uri": "https://localhost:8080/"
        },
        "id": "4S_r-bo6mTKI",
        "outputId": "d191ca49-d0f7-4208-b0ca-83bafb06497c"
      },
      "source": [
        "import math\n",
        "def binary_search_fix(low, high, a, b, k, m, n):\n",
        "    if high >= low:\n",
        "        \n",
        "        day = (high + low) // 2\n",
        "        team_a = a * day - a *(day // k)\n",
        "        team_b = b * day - b *(day // m)\n",
        "\n",
        "        team_a_pre = a * (day - 1) - a *((day - 1) // k)\n",
        "        team_b_pre = b * (day - 1) - b *((day - 1) // m)\n",
        "\n",
        "        if team_a + team_b >= n and team_a_pre + team_b_pre < n:\n",
        "            return day\n",
        " \n",
        "        elif  team_a_pre + team_b_pre >= n:\n",
        "            return binary_search_fix(low, day - 1, a, b, k, m, n)\n",
        " \n",
        "        else:\n",
        "            return binary_search_fix(day + 1, high, a, b, k, m, n)\n",
        "\n",
        "a, k, b, m, n = (int(x) for x in input().split())\n",
        "res = binary_search_fix(1, 10**18, a, b, k, m, n)\n",
        "print(res)\n",
        "#success"
      ],
      "execution_count": 69,
      "outputs": [
        {
          "output_type": "stream",
          "text": [
            "2 4 3 3 25\n",
            "7\n"
          ],
          "name": "stdout"
        }
      ]
    },
    {
      "cell_type": "code",
      "metadata": {
        "colab": {
          "base_uri": "https://localhost:8080/"
        },
        "id": "yksiZlkeqXHB",
        "outputId": "922c498d-b8a3-4c0b-c59d-1452278f31cc"
      },
      "source": [
        "import math\n",
        "a, k, b, m, n = (int(x) for x in input().split())\n",
        "team_a = a * day - a *(day // k)\n",
        "team_b = b * day - b *(day // m)\n",
        "  while 1: \n",
        "    team_a = a * day - a *(day // k)\n",
        "    team_b = b * day - b *(day // m)\n",
        "    temp = (a + b) * x - a * math.floor(x / k) - b * math.floor(x / m)\n",
        "    if temp >= n:\n",
        "      break\n",
        "    if (n-temp) / (a+b) > 1:\n",
        "      x += math.floor((n-temp) / (a+b))\n",
        "    else:\n",
        "      x += 1\n",
        "  print(x)\n",
        "else:\n",
        "\n"
      ],
      "execution_count": 41,
      "outputs": [
        {
          "output_type": "stream",
          "text": [
            "500000000000000000\n"
          ],
          "name": "stdout"
        }
      ]
    },
    {
      "cell_type": "code",
      "metadata": {
        "colab": {
          "base_uri": "https://localhost:8080/",
          "height": 248
        },
        "id": "SaH8spYLw-dP",
        "outputId": "f578ef1b-59a4-487e-ac71-fd3fb93e6d81"
      },
      "source": [
        "import math\n",
        "a, k, b, m, n = (int(x) for x in input().split())\n",
        "s = 0\n",
        "x = math.floor(n / (a + b))\n",
        "while 1: \n",
        "  team_a = a * x - a *(x // k)\n",
        "  team_b = b * x - b *(x // m)\n",
        "  if team_a + team_b >= n:\n",
        "    break\n",
        "  if math.floor((n - team_a - team_b) / (a+b)) > 1:\n",
        "    x += math.floor((n - team_a - team_b) / (a+b))\n",
        "  else:\n",
        "    x += 1\n",
        "print(x)\n",
        "#success"
      ],
      "execution_count": 70,
      "outputs": [
        {
          "output_type": "stream",
          "text": [
            "2 4 3 3 25\n"
          ],
          "name": "stdout"
        },
        {
          "output_type": "error",
          "ename": "NameError",
          "evalue": "ignored",
          "traceback": [
            "\u001b[0;31m---------------------------------------------------------------------------\u001b[0m",
            "\u001b[0;31mNameError\u001b[0m                                 Traceback (most recent call last)",
            "\u001b[0;32m<ipython-input-70-a7b53f48ed32>\u001b[0m in \u001b[0;36m<module>\u001b[0;34m()\u001b[0m\n\u001b[1;32m      4\u001b[0m \u001b[0mx\u001b[0m \u001b[0;34m=\u001b[0m \u001b[0mmath\u001b[0m\u001b[0;34m.\u001b[0m\u001b[0mfloor\u001b[0m\u001b[0;34m(\u001b[0m\u001b[0mn\u001b[0m \u001b[0;34m/\u001b[0m \u001b[0;34m(\u001b[0m\u001b[0ma\u001b[0m \u001b[0;34m+\u001b[0m \u001b[0mb\u001b[0m\u001b[0;34m)\u001b[0m\u001b[0;34m)\u001b[0m\u001b[0;34m\u001b[0m\u001b[0;34m\u001b[0m\u001b[0m\n\u001b[1;32m      5\u001b[0m \u001b[0;32mwhile\u001b[0m \u001b[0;36m1\u001b[0m\u001b[0;34m:\u001b[0m\u001b[0;34m\u001b[0m\u001b[0;34m\u001b[0m\u001b[0m\n\u001b[0;32m----> 6\u001b[0;31m   \u001b[0mteam_a\u001b[0m \u001b[0;34m=\u001b[0m \u001b[0ma\u001b[0m \u001b[0;34m*\u001b[0m \u001b[0mday\u001b[0m \u001b[0;34m-\u001b[0m \u001b[0ma\u001b[0m \u001b[0;34m*\u001b[0m\u001b[0;34m(\u001b[0m\u001b[0mday\u001b[0m \u001b[0;34m//\u001b[0m \u001b[0mk\u001b[0m\u001b[0;34m)\u001b[0m\u001b[0;34m\u001b[0m\u001b[0;34m\u001b[0m\u001b[0m\n\u001b[0m\u001b[1;32m      7\u001b[0m   \u001b[0mteam_b\u001b[0m \u001b[0;34m=\u001b[0m \u001b[0mb\u001b[0m \u001b[0;34m*\u001b[0m \u001b[0mday\u001b[0m \u001b[0;34m-\u001b[0m \u001b[0mb\u001b[0m \u001b[0;34m*\u001b[0m\u001b[0;34m(\u001b[0m\u001b[0mday\u001b[0m \u001b[0;34m//\u001b[0m \u001b[0mm\u001b[0m\u001b[0;34m)\u001b[0m\u001b[0;34m\u001b[0m\u001b[0;34m\u001b[0m\u001b[0m\n\u001b[1;32m      8\u001b[0m   \u001b[0;32mif\u001b[0m \u001b[0mteam_a\u001b[0m \u001b[0;34m+\u001b[0m \u001b[0mteam_b\u001b[0m \u001b[0;34m>=\u001b[0m \u001b[0mn\u001b[0m\u001b[0;34m:\u001b[0m\u001b[0;34m\u001b[0m\u001b[0;34m\u001b[0m\u001b[0m\n",
            "\u001b[0;31mNameError\u001b[0m: name 'day' is not defined"
          ]
        }
      ]
    }
  ]
}