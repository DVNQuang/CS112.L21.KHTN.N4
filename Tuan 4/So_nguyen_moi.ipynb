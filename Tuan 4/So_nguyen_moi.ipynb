{
  "nbformat": 4,
  "nbformat_minor": 0,
  "metadata": {
    "colab": {
      "name": "So_nguyen_moi.ipynb",
      "provenance": [],
      "authorship_tag": "ABX9TyNwJL8FgD09OgLGcCkoJDkb",
      "include_colab_link": true
    },
    "kernelspec": {
      "name": "python3",
      "display_name": "Python 3"
    },
    "language_info": {
      "name": "python"
    }
  },
  "cells": [
    {
      "cell_type": "markdown",
      "metadata": {
        "id": "view-in-github",
        "colab_type": "text"
      },
      "source": [
        "<a href=\"https://colab.research.google.com/github/DVNQuang/CS112.L21.KHTN.N4/blob/main/Tuan%204/So_nguyen_moi.ipynb\" target=\"_parent\"><img src=\"https://colab.research.google.com/assets/colab-badge.svg\" alt=\"Open In Colab\"/></a>"
      ]
    },
    {
      "cell_type": "code",
      "metadata": {
        "colab": {
          "base_uri": "https://localhost:8080/"
        },
        "id": "jUocTBqH0AFs",
        "outputId": "0dfddd61-a534-4532-f3a7-a7a208795a2c"
      },
      "source": [
        "n = input()\n",
        "arr = [int(x) for x in n]\n",
        "a = 0\n",
        "for i in range(9 , 0, -1):\n",
        "  sum = i + arr[1] + arr[2]\n",
        "  if i > arr[0]:\n",
        "    if sum % 3 == 0:\n",
        "      arr[0] = i\n",
        "      break\n",
        "  else:\n",
        "    a = 1\n",
        "if a == 1:\n",
        "  for i in range(9 , 0, -1):\n",
        "    sum = arr[0] + i + arr[2]\n",
        "    if i > arr[1]:\n",
        "      if sum % 3 == 0:\n",
        "        arr[1] = i\n",
        "        a = 0\n",
        "        break\n",
        "\n",
        "if a == 1:\n",
        "  for i in range(9 , 0, -1):\n",
        "    sum = arr[0] + arr[1] + i\n",
        "    if sum % 3 == 0 and i != arr[2]:\n",
        "      arr[2] = i\n",
        "      break\n",
        "\n",
        "print(arr)\n",
        "res = 0\n",
        "i = 2\n",
        "for x in arr:\n",
        "  res += x * 10**i\n",
        "  i -=1\n",
        "print(res)"
      ],
      "execution_count": 31,
      "outputs": [
        {
          "output_type": "stream",
          "text": [
            "999\n",
            "[9, 9, 6]\n",
            "996\n"
          ],
          "name": "stdout"
        }
      ]
    },
    {
      "cell_type": "code",
      "metadata": {
        "id": "RWFDSZe05Kqa"
      },
      "source": [
        ""
      ],
      "execution_count": null,
      "outputs": []
    }
  ]
}