{
  "nbformat": 4,
  "nbformat_minor": 0,
  "metadata": {
    "colab": {
      "name": "So_nguyen_moi.ipynb",
      "provenance": [],
      "include_colab_link": true
    },
    "kernelspec": {
      "name": "python3",
      "display_name": "Python 3"
    },
    "language_info": {
      "name": "python"
    }
  },
  "cells": [
    {
      "cell_type": "markdown",
      "metadata": {
        "id": "view-in-github",
        "colab_type": "text"
      },
      "source": [
        "<a href=\"https://colab.research.google.com/github/DVNQuang/CS112.L21.KHTN.N4/blob/main/Tuan%204/So_nguyen_moi.ipynb\" target=\"_parent\"><img src=\"https://colab.research.google.com/assets/colab-badge.svg\" alt=\"Open In Colab\"/></a>"
      ]
    },
    {
      "cell_type": "markdown",
      "metadata": {
        "id": "7BQzuz2hDWqm"
      },
      "source": [
        "# **Số Nguyên Mới**\n",
        "\n",
        "Đề bài\n",
        "\n",
        "Cho số nguyên dương $n$ có không quá 100 chữ số. Hãy xác định số nguyên lớn nhất $m$ chia hết cho 3 và khác $n$ ở đúng một chữ số.\n",
        "\n",
        "Ví dụ, $n = 123$ thì $m$ sẽ là 723.\n",
        "\n",
        "Dữ liệu: \n",
        "> Vào từ thiết bị nhập chuẩn gồm một dòng chứa số nguyên $n$ có không quá 100 chữ số và không chứa các số 0 không có nghĩa.\n",
        "\n",
        "Kết quả: \n",
        "> Đưa ra thiết bị xuất chuẩn số nguyên $m$ tìm được.\n",
        "\n",
        "# Abstraction\n",
        "Tìm số lớn nhất chia hết cho 3 khác số n 1 chữ số.\n",
        "\n",
        "# Pattern Recognition:\n",
        "Tìm tuyến tính\n",
        "\n",
        "# Algorithm designed:\n",
        "\n",
        "-Nhập số a.\n",
        "\n",
        "- Biến đổi a thành dạng chuỗi.\n",
        "\n",
        "- Declare Function Sum_arr(a) ---- (Tính tổng các phần tử của a) \n",
        "\n",
        "-Th1: Số nhập vào chưa là số lớn nhất chia hết cho 3\n",
        "\n",
        "> Duyệt chuỗi từ 0 đến chiều dài của chuỗi.\n",
        "\n",
        "> Tại mỗi bước i,thử thay a[i] bằng lần lượt j từ 9 tới 0\n",
        "> > Với Nếu Sum_arr(a) % 3==0 thay thành công và kết thúc tìm kiếm.\n",
        "\n",
        "-TH2: Số nhập vào là số lớn nhất chia hết cho 3\n",
        "\n",
        "> Duyệt j từ 9 tới 0, lần lượt thử thay phần tử cuối cùng của a bằng j.\n",
        ">> Nếu sum_arr(a) % 3== 0 và j != phần tử cuối cùng của a thì thay thành công và kết thúc tìm kiếm\n",
        "\n",
        "\n",
        "# Độ phức tạp thuật toán\n",
        "\n",
        "O(n)"
      ]
    },
    {
      "cell_type": "code",
      "metadata": {
        "colab": {
          "base_uri": "https://localhost:8080/"
        },
        "id": "jUocTBqH0AFs",
        "outputId": "15e627dd-d9ed-489f-fe23-84b8cdfa5653"
      },
      "source": [
        "n = input()\n",
        "arr = [int(x) for x in n]\n",
        "a = 1\n",
        "\n",
        "for i in range(9 , 0, -1):\n",
        "  sum = i + arr[1] + arr[2]\n",
        "  if i > arr[0]:\n",
        "    if sum % 3 == 0:\n",
        "      arr[0] = i\n",
        "      break\n",
        "  else:\n",
        "    a = 1\n",
        "if a == 1:\n",
        "  for i in range(9 , 0, -1):\n",
        "    sum = arr[0] + i + arr[2]\n",
        "    if i > arr[1]:\n",
        "      if sum % 3 == 0:\n",
        "        arr[1] = i\n",
        "        a = 0\n",
        "        break\n",
        "if a == 1:\n",
        "  for i in range(9 , 0, -1):\n",
        "    sum = arr[0] + arr[1] + i\n",
        "    if sum % 3 == 0 and i != arr[2]:\n",
        "      arr[2] = i\n",
        "      break\n",
        "\n",
        "res = 0\n",
        "i = len(arr) - 1\n",
        "for x in arr:\n",
        "  res += x * 10**i\n",
        "  i -=1\n",
        "print(res)"
      ],
      "execution_count": null,
      "outputs": [
        {
          "output_type": "stream",
          "text": [
            "123\n",
            "783\n"
          ],
          "name": "stdout"
        }
      ]
    },
    {
      "cell_type": "code",
      "metadata": {
        "colab": {
          "base_uri": "https://localhost:8080/"
        },
        "id": "RWFDSZe05Kqa",
        "outputId": "81310e1c-397a-4da4-eb40-e572f84b488d"
      },
      "source": [
        "def sum_arr(a, i, j):\n",
        "  s = 0\n",
        "  for x in a:\n",
        "    s += x\n",
        "  return s - a[i] + j\n",
        "\n",
        "n = input()\n",
        "arr = [int(x) for x in n]\n",
        "a = 1\n",
        "for i in range(0, len(arr)):\n",
        "  if a == 1:\n",
        "    for j in range(9 , 0, -1):\n",
        "      sum = sum_arr(arr, i, j)\n",
        "      if j > arr[i]:\n",
        "        if sum % 3 == 0:\n",
        "          arr[i] = j\n",
        "          a = 0\n",
        "          break\n",
        "    \n",
        "if a == 1:\n",
        "  for j in range(9 , 0, -1):\n",
        "    sum = sum_arr(arr, len(arr) - 1, j)\n",
        "    if sum % 3 == 0 and j != arr[len(arr) - 1]:\n",
        "      arr[i] = j\n",
        "      break\n",
        "\n",
        "\n",
        "res = 0\n",
        "i = len(arr) - 1\n",
        "for x in arr:\n",
        "  res += x * 10**i\n",
        "  i -=1\n",
        "print(res)"
      ],
      "execution_count": 1,
      "outputs": [
        {
          "output_type": "stream",
          "text": [
            "45739573\n",
            "95739573\n"
          ],
          "name": "stdout"
        }
      ]
    }
  ]
}