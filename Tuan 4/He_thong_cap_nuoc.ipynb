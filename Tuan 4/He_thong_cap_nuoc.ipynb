{
  "nbformat": 4,
  "nbformat_minor": 0,
  "metadata": {
    "colab": {
      "name": "He_thong_cap_nuoc.ipynb",
      "provenance": [],
      "authorship_tag": "ABX9TyNG96Rtxecs8wr7gd+orQYy",
      "include_colab_link": true
    },
    "kernelspec": {
      "name": "python3",
      "display_name": "Python 3"
    },
    "language_info": {
      "name": "python"
    }
  },
  "cells": [
    {
      "cell_type": "markdown",
      "metadata": {
        "id": "view-in-github",
        "colab_type": "text"
      },
      "source": [
        "<a href=\"https://colab.research.google.com/github/DVNQuang/CS112.L21.KHTN.N4/blob/main/Tuan%204/He_thong_cap_nuoc.ipynb\" target=\"_parent\"><img src=\"https://colab.research.google.com/assets/colab-badge.svg\" alt=\"Open In Colab\"/></a>"
      ]
    },
    {
      "cell_type": "code",
      "metadata": {
        "colab": {
          "base_uri": "https://localhost:8080/"
        },
        "id": "5w4-IcU9IVJI",
        "outputId": "2abc7c75-8f9b-4bfb-c181-b56e12640203"
      },
      "source": [
        "n, m =  map(int, input().split())\n",
        "\n",
        "graph = dict()\n",
        "\n",
        "queue = []\n",
        "\n",
        "visited = [False] * (n+1)\n",
        "\n",
        "\n",
        "sum_wise_element_group = 0\n",
        "group = 0\n",
        "mul_sol = 1\n",
        "factor = 10**9 + 7\n",
        "\n",
        "for _ in range(m):\n",
        "    a, b = map(int, input().split())\n",
        "    if a in graph:\n",
        "        graph[a].append(b)\n",
        "    else:\n",
        "        graph[a] = [b]\n",
        "\n",
        "    if b in graph:\n",
        "        graph[b].append(a)\n",
        "    else:\n",
        "        graph[b] = [a]\n",
        "\n",
        "#print(graph)\n",
        "\n",
        "for key, value in graph.items():\n",
        "  if visited[key] == True:\n",
        "    continue\n",
        "  else:\n",
        "    visited[key] = True\n",
        "    queue.append(key)\n",
        "\n",
        "  count = 1\n",
        "\n",
        "  for i in value:\n",
        "    #print(i)\n",
        "    if i in queue:\n",
        "      continue\n",
        "    else:\n",
        "      count += 1\n",
        "      queue.append(i)\n",
        "      visited[i] = True\n",
        "  \n",
        "  #print(queue)\n",
        "  #print(visited)\n",
        "\n",
        "  if count > 1:\n",
        "    sum_wise_element_group += count \n",
        "    group += 1\n",
        "    mul_sol = (mul_sol * count) % factor\n",
        "\n",
        "single_element = n - sum_wise_element_group\n",
        "\n",
        "print(single_element + group - 1)\n",
        "if single_element + group - 1 == 0:\n",
        "    print(0)\n",
        "else:\n",
        "    for i in range(single_element + group - 2):\n",
        "        mul_sol = (mul_sol * n) % factor\n",
        "\n",
        "    print(mul_sol)\n",
        "  \n",
        "\n"
      ],
      "execution_count": 14,
      "outputs": [
        {
          "output_type": "stream",
          "text": [
            "4 2 \n",
            "1 3 \n",
            "2 4\n",
            "{1: [3], 3: [1], 2: [4], 4: [2]}\n",
            "3\n",
            "[1, 3]\n",
            "[False, True, False, True, False]\n",
            "4\n",
            "[1, 3, 2, 4]\n",
            "[False, True, True, True, True]\n",
            "1\n",
            "4\n"
          ],
          "name": "stdout"
        }
      ]
    },
    {
      "cell_type": "code",
      "metadata": {
        "colab": {
          "base_uri": "https://localhost:8080/"
        },
        "id": "S8V77Kl3NnUy",
        "outputId": "642f18be-18a0-4097-f76d-7098a2ecf665"
      },
      "source": [
        "n = 10\n",
        "visited = [False] * n\n",
        "print(visited)"
      ],
      "execution_count": 9,
      "outputs": [
        {
          "output_type": "stream",
          "text": [
            "[False, False, False, False, False, False, False, False, False, False]\n"
          ],
          "name": "stdout"
        }
      ]
    }
  ]
}