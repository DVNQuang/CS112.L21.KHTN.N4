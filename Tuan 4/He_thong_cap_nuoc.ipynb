{
  "nbformat": 4,
  "nbformat_minor": 0,
  "metadata": {
    "colab": {
      "name": "He_thong_cap_nuoc.ipynb",
      "provenance": [],
      "include_colab_link": true
    },
    "kernelspec": {
      "name": "python3",
      "display_name": "Python 3"
    },
    "language_info": {
      "name": "python"
    }
  },
  "cells": [
    {
      "cell_type": "markdown",
      "metadata": {
        "id": "view-in-github",
        "colab_type": "text"
      },
      "source": [
        "<a href=\"https://colab.research.google.com/github/DVNQuang/CS112.L21.KHTN.N4/blob/main/Tuan%204/He_thong_cap_nuoc.ipynb\" target=\"_parent\"><img src=\"https://colab.research.google.com/assets/colab-badge.svg\" alt=\"Open In Colab\"/></a>"
      ]
    },
    {
      "cell_type": "markdown",
      "metadata": {
        "id": "C6oimV04a7nm"
      },
      "source": [
        "# **HỆ THỐNG CẤP NƯỚC**\n",
        "\n",
        "Vùng đất diệu kỳ Wonderland có N hộ gia đình đã được trang bị một hệ thống cung cấp nước sạch đến từng ngôi nhà. Mỗi đường ống nối trực tiếp 2 nhà, nước chảy trong đường ống theo 2 chiều, có thể truyền qua nhiều trung gian trước khi đến một nhà nào đó. Trong hồ sơ lưu trữ, các ngôi nhà được ghi số từ $1$ đến $N$.\n",
        "\n",
        "Một trận động đất đã gây nên sự cố nghiêm trọng làm cho cả vùng bị chia cắt thành nhiều khu vực rời nhau, không còn tiếp cận được với nguồn nước. Để khắc phục, những người có trách nhiệm đã khảo sát hiện trạng và ghi nhận được toàn vùng đất đang thảm họa vẫn còn $M$ đường ống đang hoạt động tốt.\n",
        "\n",
        "Nhiệm vụ đặt ra là phải khôi phục hệ thống cấp nước bằng cách lắp thêm một số đường ống. Tuy nhiên, do hạn chế về thời gian và kinh phí nên đòi hỏi phương án khôi phục phải được thực hiện với ít đường ống được lắp thêm nhất. Câu hỏi đặt ra: cần lắp thêm ít nhất bao nhiêu đường ống để hệ thống cấp nước có thể đưa nước đến từng ngôi nhà. Câu hỏi phụ: có bao nhiêu phương án khác nhau đáp ứng yêu cầu; số phương án có thể khá lớn nên chỉ cần đưa ra số dư khi chia cho $10^9+7$.\n",
        "\n",
        "**Dữ liệu:** Vào từ thiết bị nhập chuẩn:\n",
        "\n",
        "Dòng đầu tiên chứa 2 số nguyên $N, M (1 ≤ N, M  ≤ 105)$\n",
        "\n",
        "Mỗi dòng trong M dòng tiếp theo chứa 2 số nguyên $a, b (1 ≤ a,  b ≤ N)$. cho biết vẫn còn đường ống nối nhà $a$ với nhà $b$\n",
        "\n",
        "**Kết quả:** Đưa ra thiết bị xuất chuẩn số đường ống cần được lắp thêm và số phương án đáp ứng yêu cầu (theo mô đun $10^9+7$) mỗi số trên một dòng.\n"
      ]
    },
    {
      "cell_type": "markdown",
      "metadata": {
        "id": "X2garSgXa6Bw"
      },
      "source": [
        "# Abstraction\n",
        "Cho đồ thị vô hướng có N đỉnh và M cạnh (mỗi cạnh nối 2 đỉnh bất kì), tìm số cạnh ít nhất để nối tất cả thành phần liên thông của đồ thị và tìm số cách tạo ra các cạnh ấy.\n",
        "\n",
        "#Pattern Regconition\n",
        "\n",
        "Đồ thị vô hướng\n",
        "\n",
        "Để đồ thị liên thông cần số cạnh = (số khối liên thông) -1\n",
        "\n",
        "#Algorithm Design\n",
        "\n",
        "Pseudo-code\n",
        "```\n",
        "# Hàm DFS trả về số node của thành phần liên thông chứa u\n",
        "FUNCTION DFS(u): \n",
        "    marked u as visited\n",
        "    ASSIGN number_of_node = 1\n",
        "    FOR v adjacent with u:\n",
        "        IF (v is not visited):\n",
        "        number_of_node += DFS(v)\n",
        "    RETURN number_of_node\n",
        "```   \n",
        "#Đánh giá độ phức tạp\n",
        "Độ phức tạp $O(nlog(n))$\n",
        "#Programming"
      ]
    },
    {
      "cell_type": "code",
      "metadata": {
        "colab": {
          "base_uri": "https://localhost:8080/"
        },
        "id": "5w4-IcU9IVJI",
        "outputId": "2abc7c75-8f9b-4bfb-c181-b56e12640203"
      },
      "source": [
        "n, m =  map(int, input().split())\n",
        "\n",
        "graph = dict()\n",
        "\n",
        "queue = []\n",
        "\n",
        "visited = [False] * (n+1)\n",
        "\n",
        "\n",
        "sum_wise_element_group = 0\n",
        "group = 0\n",
        "mul_sol = 1\n",
        "factor = 10**9 + 7\n",
        "\n",
        "for _ in range(m):\n",
        "    a, b = map(int, input().split())\n",
        "    if a in graph:\n",
        "        graph[a].append(b)\n",
        "    else:\n",
        "        graph[a] = [b]\n",
        "\n",
        "    if b in graph:\n",
        "        graph[b].append(a)\n",
        "    else:\n",
        "        graph[b] = [a]\n",
        "\n",
        "#print(graph)\n",
        "\n",
        "for key, value in graph.items():\n",
        "  if visited[key] == True:\n",
        "    continue\n",
        "  else:\n",
        "    visited[key] = True\n",
        "    queue.append(key)\n",
        "\n",
        "  count = 1\n",
        "\n",
        "  for i in value:\n",
        "    #print(i)\n",
        "    if i in queue:\n",
        "      continue\n",
        "    else:\n",
        "      count += 1\n",
        "      queue.append(i)\n",
        "      visited[i] = True\n",
        "  \n",
        "  #print(queue)\n",
        "  #print(visited)\n",
        "\n",
        "  if count > 1:\n",
        "    sum_wise_element_group += count \n",
        "    group += 1\n",
        "    mul_sol = (mul_sol * count) % factor\n",
        "\n",
        "single_element = n - sum_wise_element_group\n",
        "\n",
        "print(single_element + group - 1)\n",
        "if single_element + group - 1 == 0:\n",
        "    print(0)\n",
        "else:\n",
        "    for i in range(single_element + group - 2):\n",
        "        mul_sol = (mul_sol * n) % factor\n",
        "\n",
        "    print(mul_sol)\n",
        "  \n",
        "\n"
      ],
      "execution_count": null,
      "outputs": [
        {
          "output_type": "stream",
          "text": [
            "4 2 \n",
            "1 3 \n",
            "2 4\n",
            "{1: [3], 3: [1], 2: [4], 4: [2]}\n",
            "3\n",
            "[1, 3]\n",
            "[False, True, False, True, False]\n",
            "4\n",
            "[1, 3, 2, 4]\n",
            "[False, True, True, True, True]\n",
            "1\n",
            "4\n"
          ],
          "name": "stdout"
        }
      ]
    },
    {
      "cell_type": "code",
      "metadata": {
        "colab": {
          "base_uri": "https://localhost:8080/"
        },
        "id": "S8V77Kl3NnUy",
        "outputId": "642f18be-18a0-4097-f76d-7098a2ecf665"
      },
      "source": [
        "n = 10\n",
        "visited = [False] * n\n",
        "print(visited)"
      ],
      "execution_count": null,
      "outputs": [
        {
          "output_type": "stream",
          "text": [
            "[False, False, False, False, False, False, False, False, False, False]\n"
          ],
          "name": "stdout"
        }
      ]
    }
  ]
}