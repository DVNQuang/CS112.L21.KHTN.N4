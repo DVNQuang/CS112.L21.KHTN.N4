{
  "nbformat": 4,
  "nbformat_minor": 0,
  "metadata": {
    "colab": {
      "name": "Dynamic_programming.ipynb",
      "provenance": [],
      "authorship_tag": "ABX9TyOYYQ1EtMvpcPbVyoLy2vVc",
      "include_colab_link": true
    },
    "kernelspec": {
      "name": "python3",
      "display_name": "Python 3"
    },
    "language_info": {
      "name": "python"
    }
  },
  "cells": [
    {
      "cell_type": "markdown",
      "metadata": {
        "id": "view-in-github",
        "colab_type": "text"
      },
      "source": [
        "<a href=\"https://colab.research.google.com/github/DVNQuang/CS112.L21.KHTN.N4/blob/main/Dynamic_Programming/Dynamic_programming.ipynb\" target=\"_parent\"><img src=\"https://colab.research.google.com/assets/colab-badge.svg\" alt=\"Open In Colab\"/></a>"
      ]
    },
    {
      "cell_type": "code",
      "metadata": {
        "id": "IBVoAouW_ZFV"
      },
      "source": [
        "import time"
      ],
      "execution_count": 40,
      "outputs": []
    },
    {
      "cell_type": "code",
      "metadata": {
        "id": "ddB9hvZcAmQW"
      },
      "source": [
        "def print_fib(n, memo = None):\n",
        "  memo = [None] * (n + 1)\n",
        "  start = time.time()\n",
        "  print(\"Fib No.{} is {}\".format(n, fib(n)))\n",
        "  stop = time.time()\n",
        "  time_take = stop - start \n",
        "  print(\"Time:    \", time_take)\n",
        "  print()"
      ],
      "execution_count": 73,
      "outputs": []
    },
    {
      "cell_type": "code",
      "metadata": {
        "colab": {
          "base_uri": "https://localhost:8080/"
        },
        "id": "lsdTM13v0o8A",
        "outputId": "bd68c149-49f7-4099-c9aa-66c14135e0bd"
      },
      "source": [
        "#Fibonacci\n",
        "def fib(n):\n",
        "  if n == 1 or n == 2:\n",
        "    return 1\n",
        "  else:\n",
        "    return fib(n - 1) + fib(n - 2)\n",
        "\n",
        "print_fib(10)\n",
        "print_fib(40)\n",
        "print_fib(50)"
      ],
      "execution_count": null,
      "outputs": [
        {
          "output_type": "stream",
          "text": [
            "Fib No.10 is 55\n",
            "Time:     0.0023987293243408203\n",
            "\n",
            "Fib No.40 is 102334155\n",
            "Time:     28.282960414886475\n",
            "\n"
          ],
          "name": "stdout"
        }
      ]
    },
    {
      "cell_type": "code",
      "metadata": {
        "colab": {
          "base_uri": "https://localhost:8080/"
        },
        "id": "ItvBxQcb1wjf",
        "outputId": "9405866a-8dcc-4f79-fc3e-b3993c4007c5"
      },
      "source": [
        "#Fibonacci with Dynamic programming\n",
        "def fib(n, memo):\n",
        "  if memo[n] != None: \n",
        "    return memo[n]\n",
        "  if n == 1 or n == 2:\n",
        "    result = 1\n",
        "  else:\n",
        "    result = fib(n - 1, memo) + fib(n - 2, memo)\n",
        "  memo[n] = result \n",
        "  return memo[n]\n",
        "\n",
        "print_fib(10)\n",
        "print_fib(100)\n",
        "print_fib(500)\n",
        "print_fib(700)\n"
      ],
      "execution_count": 72,
      "outputs": [
        {
          "output_type": "stream",
          "text": [
            "Fib No.10 is 55\n",
            "Time:     0.00022602081298828125\n",
            "\n",
            "Fib No.100 is 354224848179261915075\n",
            "Time:     0.0005819797515869141\n",
            "\n",
            "Fib No.500 is 139423224561697880139724382870407283950070256587697307264108962948325571622863290691557658876222521294125\n",
            "Time:     0.0010464191436767578\n",
            "\n",
            "Fib No.700 is 87470814955752846203978413017571327342367240967697381074230432592527501911290377655628227150878427331693193369109193672330777527943718169105124275\n",
            "Time:     0.0011606216430664062\n",
            "\n"
          ],
          "name": "stdout"
        }
      ]
    }
  ]
}