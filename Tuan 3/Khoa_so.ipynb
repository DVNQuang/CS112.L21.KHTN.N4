{
  "nbformat": 4,
  "nbformat_minor": 0,
  "metadata": {
    "colab": {
      "name": "Khoa_so.ipynb",
      "provenance": [],
      "collapsed_sections": [],
      "include_colab_link": true
    },
    "kernelspec": {
      "name": "python3",
      "display_name": "Python 3"
    },
    "language_info": {
      "name": "python"
    }
  },
  "cells": [
    {
      "cell_type": "markdown",
      "metadata": {
        "id": "view-in-github",
        "colab_type": "text"
      },
      "source": [
        "<a href=\"https://colab.research.google.com/github/DVNQuang/CS112.L21.KHTN.N4/blob/main/Tuan%203/Khoa_so.ipynb\" target=\"_parent\"><img src=\"https://colab.research.google.com/assets/colab-badge.svg\" alt=\"Open In Colab\"/></a>"
      ]
    },
    {
      "cell_type": "code",
      "metadata": {
        "colab": {
          "base_uri": "https://localhost:8080/"
        },
        "id": "k_YOZeqbpZRR",
        "outputId": "6f3108d4-dfaa-4cdf-ad09-3edc08503d8c"
      },
      "source": [
        "def max_value(arr, gem):\n",
        "  res = ''\n",
        "  len_arr = len(arr)\n",
        "  stop = False\n",
        "  if gem != 0:\n",
        "    while arr[0] >= gem:\n",
        "      for i in range(0, len_arr):\n",
        "        if arr[i] == gem:\n",
        "          arr.pop(i)\n",
        "          stop = True\n",
        "          break\n",
        "\n",
        "        if arr[i] < gem or i + 1 == len_arr:\n",
        "          gem += 3\n",
        "          break\n",
        "          \n",
        "      if stop == True:\n",
        "        break\n",
        "\n",
        "  gem = gem % 3\n",
        "  count = 0\n",
        "  \n",
        "  if gem != 0 and stop == False:\n",
        "    if gem == 1:\n",
        "      for i in range(len_arr - 1, -1, -1):\n",
        "        if arr[i] in [2, 5, 8]:\n",
        "          arr.pop(i)\n",
        "          count += 1\n",
        "        if count == 2:\n",
        "          break\n",
        "    elif gem == 2:\n",
        "      for i in range(len_arr - 1, -1, -1):\n",
        "        if arr[i] in [1, 4, 7]:\n",
        "          arr.pop(i)\n",
        "          count += 1\n",
        "        if count == 2:\n",
        "          break\n",
        "\n",
        "\n",
        "  for i in arr:\n",
        "    res += str(i)\n",
        "  print(res)\n",
        "\n",
        "\n",
        "n = input()\n",
        "arr = [int(x) for x in n]\n",
        "arr.sort(reverse = True)\n",
        "gem = sum(arr) % 3\n",
        "\n",
        "max_value(arr, gem)\n"
      ],
      "execution_count": 15,
      "outputs": [
        {
          "output_type": "stream",
          "text": [
            "88850\n",
            "[8, 8, 8, 5, 0]\n",
            "8880\n"
          ],
          "name": "stdout"
        }
      ]
    }
  ]
}