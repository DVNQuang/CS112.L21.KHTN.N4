{
  "nbformat": 4,
  "nbformat_minor": 0,
  "metadata": {
    "colab": {
      "name": "Khoa_so.ipynb",
      "provenance": [],
      "collapsed_sections": [],
      "include_colab_link": true
    },
    "kernelspec": {
      "name": "python3",
      "display_name": "Python 3"
    },
    "language_info": {
      "name": "python"
    }
  },
  "cells": [
    {
      "cell_type": "markdown",
      "metadata": {
        "id": "view-in-github",
        "colab_type": "text"
      },
      "source": [
        "<a href=\"https://colab.research.google.com/github/DVNQuang/CS112.L21.KHTN.N4/blob/main/Tuan%203/Khoa_so.ipynb\" target=\"_parent\"><img src=\"https://colab.research.google.com/assets/colab-badge.svg\" alt=\"Open In Colab\"/></a>"
      ]
    },
    {
      "cell_type": "code",
      "metadata": {
        "colab": {
          "base_uri": "https://localhost:8080/"
        },
        "id": "k_YOZeqbpZRR",
        "outputId": "39967d87-5d9d-4282-e930-10e22425f643"
      },
      "source": [
        "def max_value(arr, gem):\n",
        "  res = ''\n",
        "  len_arr = len(arr)\n",
        "  stop = False\n",
        "  if gem != 0:\n",
        "    while arr[0] >= gem:\n",
        "      for i in range(0, len_arr):\n",
        "        if arr[i] == gem:\n",
        "          arr.pop(i)\n",
        "          stop = True\n",
        "          break\n",
        "\n",
        "        if arr[i] < gem or i + 1 == len_arr:\n",
        "          gem += 3\n",
        "          break\n",
        "          \n",
        "      if stop == True:\n",
        "        break\n",
        "\n",
        "    gem = gem % 3\n",
        "    count = 0\n",
        "  \n",
        "    if stop == False:\n",
        "      if gem == 1:\n",
        "        for i in range(len_arr - 1, -1, -1):\n",
        "          if arr[i] in [2, 5, 8]:\n",
        "            arr.pop(i)\n",
        "            count += 1\n",
        "          if count == 2:\n",
        "            break\n",
        "      elif gem == 2:\n",
        "        for i in range(len_arr - 1, -1, -1):\n",
        "          if arr[i] in [1, 4, 7]:\n",
        "            arr.pop(i)\n",
        "            count += 1\n",
        "          if count == 2:\n",
        "            break\n",
        "\n",
        "\n",
        "  for i in arr:\n",
        "    res += str(i)\n",
        "  print(res)\n",
        "\n",
        "\n",
        "n = input()\n",
        "arr = [int(x) for x in n]\n",
        "arr.sort(reverse = True)\n",
        "gem = sum(arr) % 3\n",
        "max_value(arr, gem)\n"
      ],
      "execution_count": 21,
      "outputs": [
        {
          "output_type": "stream",
          "text": [
            "000001120\n",
            "21000000\n"
          ],
          "name": "stdout"
        }
      ]
    },
    {
      "cell_type": "code",
      "metadata": {
        "colab": {
          "base_uri": "https://localhost:8080/"
        },
        "id": "QYzHsEhLXehC",
        "outputId": "42544e11-1123-443d-e01e-194c8436dad9"
      },
      "source": [
        "res = ''\n",
        "n = input().strip()\n",
        "arr = [int(x) for x in n]\n",
        "arr_count = [0] * 10\n",
        "for i in arr:\n",
        "  arr_count[i] += 1;\n",
        "#print(arr_count)\n",
        "gem = sum(arr) % 3\n",
        "stop = False\n",
        "\n",
        "while gem < 9 and gem != 0:\n",
        "  if arr_count[gem] > 0:\n",
        "    arr_count[gem] -= 1\n",
        "    stop = True\n",
        "    break\n",
        "  else:\n",
        "    gem += 3\n",
        "#print(stop)\n",
        "if stop == False:\n",
        "  gem = gem % 3\n",
        "  count = 0\n",
        "  if gem == 1:\n",
        "      for i in [2, 5, 8]:\n",
        "        while arr_count[i] > 0:\n",
        "          arr_count[i] -= 1\n",
        "          count += 1\n",
        "          if count == 2:\n",
        "            stop == True\n",
        "            break\n",
        "        if stop == True:\n",
        "          break\n",
        "  if gem == 2:\n",
        "      for i in [1, 4, 7]:\n",
        "        while arr_count[i] > 0:\n",
        "          arr_count[i] -= 1\n",
        "          count += 1\n",
        "          if count == 2:\n",
        "            stop == True\n",
        "            break\n",
        "        if stop == True:\n",
        "          break\n",
        "\n",
        "for i in range(9, -1, -1):\n",
        "  for j in range(arr_count[i]):\n",
        "    res += str(i)\n",
        "\n",
        "print(res)\n",
        "\n",
        "\n",
        "\n"
      ],
      "execution_count": 41,
      "outputs": [
        {
          "output_type": "stream",
          "text": [
            "9110\n",
            "90\n"
          ],
          "name": "stdout"
        }
      ]
    },
    {
      "cell_type": "code",
      "metadata": {
        "id": "K8m9ANKjiCJg"
      },
      "source": [
        "for i in range(0):\n",
        "  print(i)"
      ],
      "execution_count": 27,
      "outputs": []
    }
  ]
}