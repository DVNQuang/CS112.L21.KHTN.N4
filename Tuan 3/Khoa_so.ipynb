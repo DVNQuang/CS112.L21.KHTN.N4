{
  "nbformat": 4,
  "nbformat_minor": 0,
  "metadata": {
    "colab": {
      "name": "Khoa_so.ipynb",
      "provenance": [],
      "collapsed_sections": [],
      "include_colab_link": true
    },
    "kernelspec": {
      "name": "python3",
      "display_name": "Python 3"
    },
    "language_info": {
      "name": "python"
    }
  },
  "cells": [
    {
      "cell_type": "markdown",
      "metadata": {
        "id": "view-in-github",
        "colab_type": "text"
      },
      "source": [
        "<a href=\"https://colab.research.google.com/github/DVNQuang/CS112.L21.KHTN.N4/blob/main/Tuan%203/Khoa_so.ipynb\" target=\"_parent\"><img src=\"https://colab.research.google.com/assets/colab-badge.svg\" alt=\"Open In Colab\"/></a>"
      ]
    },
    {
      "cell_type": "markdown",
      "metadata": {
        "id": "AUlvDCsecuYm"
      },
      "source": [
        "# **Khóa Số**\n",
        "\n",
        "Để tăng độ an toàn chống hiện tượng cướp ngân hàng ngày càng phổ biến người ta dùng khóa số với mã mở khóa đơn giản nhưng rất hiệu quả. Trên cửa ra vào hiển thị một xâu khá dài các ký tự số. Các chữ số có thể di chuyển đổi chổ cho nhau hoặc bị xóa. Muốn mở khóa người ta phải di chuyển các chữ số và trong trường hợp cần thiết – xóa vài chữ số để nhận được xâu lớn nhất thỏa mãn điều kiện đã cài đặt. Điều kiện này được thay đổi thường xuyên. Hôm nay điều kiện đó là “Số nhận được phải chia hết cho 3”. Số nhận được có thể bắt đầu bằng các chữ số 0. Xâu “000” sẽ lớn hơn xâu “00”.\n",
        "\n",
        "Hãy xác định khóa mở cửa.\n",
        "\n",
        "Dữ liệu: Vào từ thiết bị nhập chuẩn gồm một xâu ký tự số có độ dài lớn hơn 2 và không vượt quá $10^5$.\n",
        "\n",
        "Kết quả: Đưa ra thiết bị xuất chuẩn xâu khóa mở cửa."
      ]
    },
    {
      "cell_type": "markdown",
      "metadata": {
        "id": "m4gsUD28dPCE"
      },
      "source": [
        "# Abstraction\n",
        "\n",
        "Biến đổi (xóa, đổi chỗ) các phần tử trong mảng để tạo thành số lớn nhất chia hết cho 3"
      ]
    },
    {
      "cell_type": "markdown",
      "metadata": {
        "id": "KIjFxl1Tdysn"
      },
      "source": [
        "# Pattern Recognition\n",
        "\n",
        "Dạng bài : Thay đổi phần tử trong mảng"
      ]
    },
    {
      "cell_type": "markdown",
      "metadata": {
        "id": "MH2BjEa9d8fC"
      },
      "source": [
        "# Algorithm Design\n",
        "Nhập chuỗi số \n",
        "Tính $sumarr=$ tổng các chữ số\n",
        "\n",
        "Tính biến $gem==sumarr$ % 3  \n",
        "\n"
      ]
    },
    {
      "cell_type": "markdown",
      "metadata": {
        "id": "Jk93nmYad8ae"
      },
      "source": [
        "# Độ phức tạp thuật toán\n",
        "Độ phức tạp thuật toán $O(n+m^2)$"
      ]
    },
    {
      "cell_type": "markdown",
      "metadata": {
        "id": "pTNyh9SE8Kit"
      },
      "source": [
        "# Programming\n"
      ]
    },
    {
      "cell_type": "code",
      "metadata": {
        "colab": {
          "base_uri": "https://localhost:8080/"
        },
        "id": "k_YOZeqbpZRR",
        "outputId": "8b71fc2f-5e47-4658-d5e2-2d519db6b43b"
      },
      "source": [
        "def max_value(arr, gem):\n",
        "  res = ''\n",
        "  len_arr = len(arr)\n",
        "  stop = False\n",
        "  if gem != 0:\n",
        "    while arr[0] >= gem:\n",
        "      for i in range(0, len_arr):\n",
        "        if arr[i] == gem:\n",
        "          arr.pop(i)\n",
        "          stop = True\n",
        "          break\n",
        "\n",
        "        if arr[i] < gem or i + 1 == len_arr:\n",
        "          gem += 3\n",
        "          break\n",
        "          \n",
        "      if stop == True:\n",
        "        break\n",
        "\n",
        "    gem = gem % 3\n",
        "    count = 0\n",
        "  \n",
        "    if stop == False:\n",
        "      if gem == 1:\n",
        "        for i in range(len_arr - 1, -1, -1):\n",
        "          if arr[i] in [2, 5, 8]:\n",
        "            arr.pop(i)\n",
        "            count += 1\n",
        "          if count == 2:\n",
        "            break\n",
        "      elif gem == 2:\n",
        "        for i in range(len_arr - 1, -1, -1):\n",
        "          if arr[i] in [1, 4, 7]:\n",
        "            arr.pop(i)\n",
        "            count += 1\n",
        "          if count == 2:\n",
        "            break\n",
        "\n",
        "\n",
        "  for i in arr:\n",
        "    res += str(i)\n",
        "  print(res)\n",
        "\n",
        "\n",
        "n = input().strip()\n",
        "arr = [int(x) for x in n]\n",
        "arr.sort(reverse = True)\n",
        "gem = sum(arr) % 3\n",
        "max_value(arr, gem)\n"
      ],
      "execution_count": null,
      "outputs": [
        {
          "output_type": "stream",
          "text": [
            "900911\n",
            "9900\n"
          ],
          "name": "stdout"
        }
      ]
    },
    {
      "cell_type": "code",
      "metadata": {
        "colab": {
          "base_uri": "https://localhost:8080/"
        },
        "id": "QYzHsEhLXehC",
        "outputId": "5c86a052-fd4c-45bd-b61b-53ff1764a66b"
      },
      "source": [
        "res = ''\n",
        "n = input().strip()\n",
        "arr = [int(x) for x in n]\n",
        "arr_count = [0] * 10\n",
        "for i in arr:\n",
        "  arr_count[i] += 1;\n",
        "#print(arr_count)\n",
        "gem = sum(arr) % 3\n",
        "stop = False\n",
        "\n",
        "while gem < 9 and gem != 0:\n",
        "  if arr_count[gem] > 0:\n",
        "    arr_count[gem] -= 1\n",
        "    stop = True\n",
        "    break\n",
        "  else:\n",
        "    gem += 3\n",
        "#print(stop)\n",
        "if stop == False:\n",
        "  gem = gem % 3\n",
        "  count = 0\n",
        "  if gem == 1:\n",
        "      for i in [2, 5, 8]:\n",
        "        while arr_count[i] > 0:\n",
        "          arr_count[i] -= 1\n",
        "          count += 1\n",
        "          if count == 2:\n",
        "            stop == True\n",
        "            break\n",
        "        if stop == True:\n",
        "          break\n",
        "  if gem == 2:\n",
        "      for i in [1, 4, 7]:\n",
        "        while arr_count[i] > 0:\n",
        "          arr_count[i] -= 1\n",
        "          count += 1\n",
        "          if count == 2:\n",
        "            stop == True\n",
        "            break\n",
        "        if stop == True:\n",
        "          break\n",
        "\n",
        "for i in range(9, -1, -1):\n",
        "  for j in range(arr_count[i]):\n",
        "    res += str(i)\n",
        "\n",
        "print(res)\n",
        "\n",
        "\n",
        "\n"
      ],
      "execution_count": null,
      "outputs": [
        {
          "output_type": "stream",
          "text": [
            "900911\n",
            "9900\n"
          ],
          "name": "stdout"
        }
      ]
    }
  ]
}