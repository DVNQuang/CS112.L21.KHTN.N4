{
  "nbformat": 4,
  "nbformat_minor": 0,
  "metadata": {
    "colab": {
      "name": "H_index",
      "provenance": [],
      "include_colab_link": true
    },
    "kernelspec": {
      "name": "python3",
      "display_name": "Python 3"
    },
    "language_info": {
      "name": "python"
    }
  },
  "cells": [
    {
      "cell_type": "markdown",
      "metadata": {
        "id": "view-in-github",
        "colab_type": "text"
      },
      "source": [
        "<a href=\"https://colab.research.google.com/github/DVNQuang/CS112.L21.KHTN.N4/blob/main/Tuan%203/H_index.ipynb\" target=\"_parent\"><img src=\"https://colab.research.google.com/assets/colab-badge.svg\" alt=\"Open In Colab\"/></a>"
      ]
    },
    {
      "cell_type": "markdown",
      "metadata": {
        "id": "FZs2xqBIxwTg"
      },
      "source": [
        "# H_Index\n",
        "\n",
        "Làm thế nào để đánh giá sự thành công của một nhà khoa học?  Dựa vào số bài báo được công bố hay dựa vào số lần một bài báo được trích dẫn tới ở công trình của những người khác? Cả hai tham số đó đều quan trọng.\n",
        "\n",
        " Một bài báo có điểm số trích dẫn là $c$ nếu nó được trích dẫn tới $c$ lần trong các công trình của những nhà khoa học khác. Một trong số các cách đánh giá sự thành công của một nhà khoa học là tính chỉ số ảnh hưởng **H_Index** dựa trên sự kết hợp giữa số lượng bài báo và chỉ số trích dẫn của các bài báo đó.\n",
        "\n",
        "Chỉ số **H_Index** của một nhà khoa học bằng $k$ lớn nhất nếu người đó có $k$ bài báo, mỗi bài có điểm số trích dẫn không nhỏ hơn $k$. Ví dụ, một người có $10$ bài báo, mỗi bài báo được trích dẫn không dưới $10$ lần thì **H_Index** của người đó ít nhất là bằng $10$.\n",
        "\n",
        "Một người có n bài báo, bài báo thứ i có điểm trích dẫn là $ci, i = 1 ÷ n$. Hãy xác định **H_Index** của người đó.\n",
        "\n",
        "**Dữ liệu**: Vào từ thiết bị nhập chuẩn:\n",
        "\n",
        "> Dòng đầu tiên chứa một số nguyên $n (1 ≤ n ≤ 5×10^5)$,\n",
        "\n",
        "> Dòng thứ 2 chứa $n$ số nguyên $c1, c2, . . ., cn$ $(0 ≤ ci ≤ 10^6, i = 1 ÷ n)$.\n",
        "\n",
        "**Kết quả**: Đưa ra thiết bị xuất chuẩn một số nguyên – **H_Index** tìm được."
      ]
    },
    {
      "cell_type": "markdown",
      "metadata": {
        "id": "ter1YogO0r3v"
      },
      "source": [
        "# Abstraction\n",
        "\n",
        "Cho dãy $n$ phần tử, tìm số $k$ $(k \\leq n)$ lớn nhất sao cho trong dãy có ít nhất $k$ phần tử $\\geq$ k\n"
      ]
    },
    {
      "cell_type": "markdown",
      "metadata": {
        "id": "T2mT3pIh2HE5"
      },
      "source": [
        "# Pattern Recognition\n",
        "\n"
      ]
    },
    {
      "cell_type": "markdown",
      "metadata": {
        "id": "ntINJUku2Ox-"
      },
      "source": [
        "# Algorithm Design\n",
        "\n"
      ]
    },
    {
      "cell_type": "markdown",
      "metadata": {
        "id": "ShMZakPx2_lx"
      },
      "source": [
        "# Programming"
      ]
    },
    {
      "cell_type": "code",
      "metadata": {
        "id": "bRHz1uqBj4GI"
      },
      "source": [
        "import numpy"
      ],
      "execution_count": null,
      "outputs": []
    },
    {
      "cell_type": "code",
      "metadata": {
        "colab": {
          "base_uri": "https://localhost:8080/"
        },
        "id": "_Z_Canmdj7vn",
        "outputId": "4d1c94ea-1d2f-439b-f7d1-9ec6b95cc694"
      },
      "source": [
        "def check(arr, n):\n",
        "  for i in range(n - 1, -1, -1):\n",
        "    if arr[i] >= i + 1:\n",
        "      print(i + 1)\n",
        "      break\n",
        "  else:\n",
        "    print(0)\n",
        "\n",
        "n = int(input())\n",
        "arr = [int(x) for x in input().split()]\n",
        "arr.sort(reverse = True)\n",
        "check(arr, n)"
      ],
      "execution_count": null,
      "outputs": [
        {
          "output_type": "stream",
          "text": [
            "5\n",
            "1 2 3 4 5\n",
            "3\n"
          ],
          "name": "stdout"
        }
      ]
    }
  ]
}