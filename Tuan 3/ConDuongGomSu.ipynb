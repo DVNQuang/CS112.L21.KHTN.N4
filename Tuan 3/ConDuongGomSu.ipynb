{
  "nbformat": 4,
  "nbformat_minor": 0,
  "metadata": {
    "colab": {
      "name": "ConDuongGomSu.ipynb",
      "provenance": [],
      "include_colab_link": true
    },
    "kernelspec": {
      "name": "python3",
      "display_name": "Python 3"
    },
    "language_info": {
      "name": "python"
    }
  },
  "cells": [
    {
      "cell_type": "markdown",
      "metadata": {
        "id": "view-in-github",
        "colab_type": "text"
      },
      "source": [
        "<a href=\"https://colab.research.google.com/github/DVNQuang/CS112.L21.KHTN.N4/blob/main/Tuan%203/ConDuongGomSu.ipynb\" target=\"_parent\"><img src=\"https://colab.research.google.com/assets/colab-badge.svg\" alt=\"Open In Colab\"/></a>"
      ]
    },
    {
      "cell_type": "markdown",
      "metadata": {
        "id": "f5_IU1y_e2sT"
      },
      "source": [
        "# **Con Đường Gốm Sứ**\n",
        "\n",
        "Sau khi bê tông hóa đê chống lụt, thành phố quyết định cho khảm lên tường bê tông của đê tranh ghép tạo bởi các mảnh gốm sứ lấy từ các lò gốm nổi tiếng trong nước. Toàn bộ con đê được chia thành $n$ phần có độ rộng giống nhau, mỗi phần gọi là một lô. Mỗi bức tranh khảm trên đó đều phải có độ rộng giống nhau, tức là bao gồm một số như nhau các lô liên tiếp và toàn bộ tường phải được phủ kín tranh từ đầu đến cuối, mỗi lô phải được tạo màu chủ đạo (gọi là màu của lô) từ một loại gốm đặc trưng lấy từ một lò gốm nào đó trong nước, ví dụ gốm màu xanh Cô ban từ lò gốm Ánh Hồng Quảng Ninh, gốm da lươn – từ Bát Tràng Hà Nội, gốm mộc hồng nhạt – từ Biên Hòa Đồng Nai, . . . Các loại gốm này được đánh số từ $1$ đến $50 000$.\n",
        "\n",
        "Hướng dẫn viên du lịch giới thiệu với khách tham quan là có 2 nhóm nghệ nhân được giao việc tạo hình và khảm tranh. Với mỗi nhóm các bức tranh của đều được đặc trưng bởi dãy số $(c_1, c_2, . . ., c_k)$, trong đó k là độ rộng của tranh, $c_i$ – màu của lô, $i = 1 ÷ k$, các bức tranh khác nhau có thể khác nhau ở trình tự xuất hiện màu của các lô, ví dụ với dãy số đặc trưng $(2, 6, 2, 9)$, trình tự màu trong tranh có thể là $(9, 2, 2, 6)$ hoặc $(6, 9, 2, 2)$ nhưng không thể là $(6, 9, 2, 3)$. Dãy đặc trưng của 2 nhóm là khác nhau, tức là không thể bằng phép hoán vị trình tự màu của lô để đưa một dãy về dãy kia. Các bức tranh được ghép với nhau rất hài hòa và khách tham quan không nhận biết được sự chuyển tiếp từ tranh này sang tranh khác. Tuy vậy nhiều khách tham quan vẫn muốn biết có bao nhiêu bức tranh đã tạo ra và trong đó số bức tranh của mỗi nhóm là bao nhiêu.\n",
        "\n",
        "Hãy xác định số lượng tranh có thể có và số lượng tranh mỗi nhóm đã làm. biết rằng nhóm nào cũng có tranh của mình.\n",
        "\n",
        "Dữ liệu:\n",
        "\n",
        "Dòng đầu tiên chứa một số nguyên $n$ – số lượng lô của con đê $(2 ≤ n ≤ 10^5)$.\n",
        "\n",
        "Dòng thứ 2 chứa $n$ số nguyên $a_1, a_2, . . ., a_n$ – màu của các lô $(1 ≤ a_i ≤ 50 000, i = 1 ÷ n)$.\n",
        "\n",
        "Kết quả: \n",
        "\n",
        "Dòng đầu tiên chứa số nguyên $m$ – số lượng phương án khác nhau chia con đường thành các bức tranh, nếu không có cách phân chia để đảm bảo phân biệt tranh của đúng $2$ nhóm thì đưa ra số $-1$. Nếu có cách phân biệt thì ở mỗi dòng tiếp theo đưa ra $3$ số nguyên $k$, $p$ và $q$ – độ rộng bức tranh, số tranh do nhóm 1 thực hiện và số tranh do nhóm 2 thực hiện, thông tin đưa ra theo thứ tự tăng dần của $k$ và ở mỗi dòng có $p ≥ q >0$."
      ]
    },
    {
      "cell_type": "markdown",
      "metadata": {
        "id": "3f_x2wjRgLfb"
      },
      "source": [
        "# Abstraction\n",
        "\n",
        "Cho mảng $A$ gồm $n$ phần tử, chia thành $m$ mảng con (mỗi mảng chứa $k$ phần tử), tìm số hoán vị của 2 mảng con khác nhau trong các mảng đã chia."
      ]
    },
    {
      "cell_type": "markdown",
      "metadata": {
        "id": "Ld7mmFzTf10F"
      },
      "source": [
        "# Pattern Recognition\n",
        "\n",
        "Bài toán phân loại\n",
        "\n",
        "> Sử dụng bảng băm"
      ]
    },
    {
      "cell_type": "markdown",
      "metadata": {
        "id": "oYWALkr_f163"
      },
      "source": [
        "# Algorithm Design\n",
        "\n",
        "Tìm k - số phần tử của mỗi khả năng của mảng con:\n",
        "\n",
        "> Vì mảng A đuợc chia thành các đoạn đều nhau $\\rightarrow$ k phải là ước của n mới thỏa được điều kiện.\n",
        "\n",
        "Với mỗi số k vừa tìm, tính số hoán vị của 2 bộ số:\n",
        "\n",
        "> Tạo ra 2 bảng băm:\n",
        "> * Bảng 1: Tần suất số của dãy số đặc trưng 1 (khởi tạo là rỗng)\n",
        "\n",
        "> * Bảng 2: Tần suất số của dãy số đặc trưng 2 (khởi tạo là rỗng)\n",
        "\n",
        "> Chia mảng ban đầu thành $n//k$ mảng con liên tiếp, mỗi mảng con gồm $k$ phần tử\n",
        "\n",
        "> Duyệt qua từng mảng con:\n",
        ">  * Tính tần suất màu cho từng mảng con - dùng hash table (gọi là bảng tmp)\n",
        "\n",
        "> * Nếu bảng tmp = bảng 1 -> Số tranh nhóm 1 cộng thêm 1\n",
        "\n",
        "> * Nếu bảng tmp = bảng 2 -> Số tranh nhóm 2 cộng thêm 1\n",
        "\n",
        "> * Nếu bảng 1 rỗng -> bảng 1 = histogram hiện tại\n",
        "\n",
        "> * Nếu bảng 2 rỗng -> bảng 2 = histogram hiện tại\n",
        "\n",
        "> * Trả về cờ 'không hợp lệ' nếu bảng hiện tại không thuộc Nhóm 1 hay Nhóm 2\n",
        "\n",
        "> Lưu lại số tranh nhóm 1 và nhóm 2 cho $k$ hiện tại. Nếu $k$ hiện tại bị gắn cờ 'không hợp lệ' thì lưu cờ này thay vì số tranh\n",
        "\n",
        "Duyệt qua kết quả đã lưu cho từng $k$:\n",
        "> Nếu tất cả các trường hợp $k$ đều 'không hợp lệ' thì trả về -1\n",
        "\n",
        "> Ngược lại thì đếm số trường hợp hợp lệ và in ra kết quả như yêu cầu đề bài"
      ]
    },
    {
      "cell_type": "markdown",
      "metadata": {
        "id": "r3ciD5qwf2Eq"
      },
      "source": [
        "# Độ Phức Tạp Thuật Toán\n",
        "\n",
        "Thuật toán có độ phức tạp : $O(n)$"
      ]
    },
    {
      "cell_type": "markdown",
      "metadata": {
        "id": "NayR1rIlgG_c"
      },
      "source": [
        "# Programming"
      ]
    },
    {
      "cell_type": "code",
      "metadata": {
        "id": "eXsKMZrDpRMK"
      },
      "source": [
        "def compareHash(a, b):\n",
        "  if len(a) != len(b): \n",
        "   return False\n",
        "  for i in a:\n",
        "    if i not in b:\n",
        "     return False\n",
        "    elif a[i] != b[i]:    \n",
        "     return False\n",
        "  return True\n",
        "\n",
        "def check(arr, k):\n",
        "  team_1 = None\n",
        "  team_2 = None\n",
        "  team_1_picture = 0\n",
        "  team_2_picture = 0\n",
        "  picture_number = n // k\n",
        "  for i in range(picture_number):\n",
        "    temp = dict()\n",
        "    for j in arr[i*k:(i+1)*k]:\n",
        "      if j in temp:\n",
        "        temp[j] += 1\n",
        "      else:\n",
        "        temp[j] = 1\n",
        "\n",
        "    if team_1 is None:\n",
        "      if team_2 is None:\n",
        "        team_2 = temp\n",
        "        team_2_picture += 1\n",
        "      else:\n",
        "        if compareHash(team_2, temp) is False:\n",
        "         team_1 = temp\n",
        "         team_1_picture += 1\n",
        "        else:\n",
        "         team_2_picture += 1\n",
        "    else:\n",
        "      if compareHash(team_1, temp) is True:\n",
        "        team_1_picture += 1\n",
        "      elif compareHash(team_2, temp) is True:\n",
        "        team_2_picture += 1\n",
        "      else:\n",
        "        return [-1, team_2_picture, team_1_picture]\n",
        "\n",
        "  if team_1_picture * team_2_picture == 0: \n",
        "   return [-1, team_2_picture, team_1_picture]\n",
        "  return [k, team_2_picture, team_1_picture]\n",
        "\n",
        "n = int(input())\n",
        "arr = [int(x) for x in input().split()]\n",
        "posible_k = []\n",
        "result = []\n",
        "\n",
        "for i in range(1, n // 2 + 1):\n",
        "  if n % i == 0:\n",
        "   posible_k.append(i)\n",
        "\n",
        "for k in posible_k:\n",
        "  temp = check(arr, k)\n",
        "  if temp[0] != -1:\n",
        "    result.append(temp)\n",
        "\n",
        "if len(result) == 0:\n",
        "  print(-1)\n",
        "else:\n",
        "  print(len(result))\n",
        "  for i in result:\n",
        "    for j in i: \n",
        "      print(j, end =\" \") \n",
        "    print()\n",
        "\n"
      ],
      "execution_count": null,
      "outputs": []
    }
  ]
}