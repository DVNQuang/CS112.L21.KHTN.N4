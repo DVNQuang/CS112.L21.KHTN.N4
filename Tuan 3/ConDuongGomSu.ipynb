{
  "nbformat": 4,
  "nbformat_minor": 0,
  "metadata": {
    "colab": {
      "name": "ConDuongGomSu.ipynb",
      "provenance": [],
      "authorship_tag": "ABX9TyNHvRjQjgoIKc3AiCNH3yST",
      "include_colab_link": true
    },
    "kernelspec": {
      "name": "python3",
      "display_name": "Python 3"
    },
    "language_info": {
      "name": "python"
    }
  },
  "cells": [
    {
      "cell_type": "markdown",
      "metadata": {
        "id": "view-in-github",
        "colab_type": "text"
      },
      "source": [
        "<a href=\"https://colab.research.google.com/github/DVNQuang/CS112.L21.KHTN.N4/blob/main/Tuan%203/ConDuongGomSu.ipynb\" target=\"_parent\"><img src=\"https://colab.research.google.com/assets/colab-badge.svg\" alt=\"Open In Colab\"/></a>"
      ]
    },
    {
      "cell_type": "code",
      "metadata": {
        "id": "eXsKMZrDpRMK",
        "colab": {
          "base_uri": "https://localhost:8080/"
        },
        "outputId": "9ceaf836-21ae-42d7-dffd-b1aa951e25f8"
      },
      "source": [
        "def compareHash(a, b):\n",
        "  if len(a) != len(b): \n",
        "   return False\n",
        "  for i in a:\n",
        "    if i not in b:\n",
        "     return False\n",
        "    elif a[i] != b[i]:    \n",
        "     return False\n",
        "  return True\n",
        "\n",
        "def check(arr, k):\n",
        "  team_1 = None\n",
        "  team_2 = None\n",
        "  team_1_picture = 0\n",
        "  team_2_picture = 0\n",
        "  picture_number = n // k\n",
        "  for i in range(picture_number):\n",
        "    temp = dict()\n",
        "    for j in arr[i*k:(i+1)*k]:\n",
        "      if j in temp:\n",
        "        temp[j] += 1\n",
        "      else:\n",
        "        temp[j] = 1\n",
        "\n",
        "    if team_1 is None:\n",
        "      if team_2 is None:\n",
        "        team_2 = temp\n",
        "        team_2_picture += 1\n",
        "      else:\n",
        "        if compareHash(team_2, temp) is False:\n",
        "         team_1 = temp\n",
        "         team_1_picture += 1\n",
        "        else:\n",
        "         team_2_picture += 1\n",
        "    else:\n",
        "      if compareHash(team_1, temp) is True:\n",
        "        team_1_picture += 1\n",
        "      elif compareHash(team_2, temp) is True:\n",
        "        team_2_picture += 1\n",
        "      else:\n",
        "        return [-1, team_2_picture, team_1_picture]\n",
        "\n",
        "  if team_1_picture * team_2_picture == 0: \n",
        "   return [-1, team_2_picture, team_1_picture]\n",
        "  return [k, team_2_picture, team_1_picture]\n",
        "\n",
        "n = int(input())\n",
        "arr = [int(x) for x in input().split()]\n",
        "posible_k = []\n",
        "result = []\n",
        "\n",
        "for i in range(1, n // 2 + 1):\n",
        "  if n % i == 0:\n",
        "   posible_k.append(i)\n",
        "\n",
        "for k in posible_k:\n",
        "  temp = check(arr, k)\n",
        "  if temp[0] != -1:\n",
        "    result.append(temp)\n",
        "\n",
        "if len(result) == 0:\n",
        "  print(-1)\n",
        "else:\n",
        "  print(len(result))\n",
        "  for i in result:\n",
        "   for j in i: \n",
        "     print(j, end=' ')\n",
        "\n"
      ],
      "execution_count": 14,
      "outputs": [
        {
          "output_type": "stream",
          "text": [
            "9\n",
            "1 1 1 1 1 1 1 1 1 \n",
            "-1\n"
          ],
          "name": "stdout"
        }
      ]
    }
  ]
}