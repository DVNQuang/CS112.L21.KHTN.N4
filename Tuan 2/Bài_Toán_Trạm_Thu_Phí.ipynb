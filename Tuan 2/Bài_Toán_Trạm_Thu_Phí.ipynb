{
  "nbformat": 4,
  "nbformat_minor": 0,
  "metadata": {
    "colab": {
      "name": "Tuan 2/ Bài Toán Trạm Thu Phí.ipynb",
      "provenance": [],
      "collapsed_sections": [],
      "toc_visible": true,
      "include_colab_link": true
    },
    "kernelspec": {
      "name": "python3",
      "display_name": "Python 3"
    },
    "language_info": {
      "name": "python"
    }
  },
  "cells": [
    {
      "cell_type": "markdown",
      "metadata": {
        "id": "view-in-github",
        "colab_type": "text"
      },
      "source": [
        "<a href=\"https://colab.research.google.com/github/DVNQuang/CS112.L21.KHTN.N4/blob/main/Tuan%202/B%C3%A0i_To%C3%A1n_Tr%E1%BA%A1m_Thu_Ph%C3%AD.ipynb\" target=\"_parent\"><img src=\"https://colab.research.google.com/assets/colab-badge.svg\" alt=\"Open In Colab\"/></a>"
      ]
    },
    {
      "cell_type": "markdown",
      "metadata": {
        "id": "Lvsv335Hwvy-"
      },
      "source": [
        "# **Bài Toán Trạm Thu Phí**\n",
        " BOT (Built-Operation-Transfer, có nghĩa: Xây dựng-Vận hành-Chuyển giao) là hình thức Chính phủ kêu gọi các công ty bỏ vốn xây dựng trước (Built) thông qua đấu thầu, sau đó khai thác vận hành một thời gian (Operation) và sau cùng là chuyển giao (Transfer) lại cho nhà nước sở tại.\n",
        "\n",
        "Đường cao tốc xuyên quốc gia được xây dựng theo hình thức BOT. Công ty Đa quốc gia Modern Highway trúng thầu, chia toàn bộ con đường thành n đoạn. Theo tính toán của Công ty sau khi chuyển giao con đường cho chính phủ sở tại quản lý thì lãi thu được ở đoạn đường thứ i là ai, ai có thể dương, âm hoặc bằng 0, tức là với từng đoạn con có thể lãi, lỗ hoặc hòa vốn. Từng nhóm các đoạn đường liên tiếp nhau (gọi tắt là khoảng) được chia cho các công ty con thực hiện. Công ty con ASEAM Highway hiện đang có trụ sở ở nước sở tại được quyền chọn trước khoảng tùy ý (có thể là cả con đường).\n",
        "\n",
        "Dĩ nhiên Ban Giám đốc ASEAM Highway muốn chọn khoảng bắt đầu từ đoạn p đến hết đoạn q mang lại lợi nhuận cao nhất hoặc lỗ ít nhất nếu không có khoảng nào cho lãi.\n",
        "\n",
        "Hãy chỉ ra khoảng cần chọn và lãi thu được. Nếu có nhiều cách chọn thì chỉ ra cách chọn có p nhỏ nhất.\n",
        "\n",
        "Dữ liệu: Vào từ thiết bị nhập chuẩn:\n",
        "\n",
        "> Dòng đầu tiên chứa số nguyên n $(1 ≤ n ≤ 10^6)$\n",
        "\n",
        "> Dòng thứ 2 chứa n số nguyên $a_1, a_2, . . ., a_n (0 ≤ |a_i| ≤ 10^9, i = 1 ÷ n).$\n",
        "\n",
        "Kết quả: Đưa ra thiết bị xuất chuẩn trên một dòng 2 số nguyên p, q và lãi thu được.\n",
        "# Abstraction\n",
        "Tìm mảng con nhỏ lớn nhất trong mảng gồm n phần tử và chỉ số của chúng\n",
        "#  Pattern Recognition\n",
        "\n",
        "# Algorithm Design\n",
        "Với \n",
        "> p, q: lần lượt là vị trí đầu và cuối của đoạn có tổng lớn nhất\n",
        "\n",
        "> sum: là tổng giá trị từ đầu đến vị trí đang xét\n",
        "\n",
        "> res: là tổng giá trị của đoạn có tổng lớn nhất (sum - min)\n",
        "\n",
        "Ta xây dựng lời giải dựa trên ý tưởng sau:\n",
        "```\n",
        "for j in range(n): \n",
        "    for i in range(j, n):\n",
        "      sum = sum_1_i[i + 1] - sum_1_i[j]\n",
        "      if sum > res:\n",
        "        res = sum\n",
        "        p = j + 1\n",
        "        q = i + 1\n",
        "  return res, p ,q\n",
        "```\n",
        "# Đánh giá độ phức tạp\n",
        "Độ phức tạp thuật toán $O(n^2)$\n"
      ]
    },
    {
      "cell_type": "code",
      "metadata": {
        "colab": {
          "base_uri": "https://localhost:8080/"
        },
        "id": "t0JOAExwMoi3",
        "outputId": "9c769b1f-3cd1-4dbd-df7a-f83963777038"
      },
      "source": [
        "def maxCrossingSum(arr, l, m, r):\n",
        " \n",
        "    # Tìm left max\n",
        "    sm = 0\n",
        "    left_sum = -1e18\n",
        " \n",
        "    for i in range(m, l-1, -1):\n",
        "        sm = sm + arr[i]\n",
        " \n",
        "        if (sm > left_sum):\n",
        "            left_sum = sm\n",
        " \n",
        "    # Tìm right max\n",
        "    sm = 0\n",
        "    right_sum = -1e18\n",
        "    for i in range(m + 1, r + 1):\n",
        "        sm = sm + arr[i]\n",
        " \n",
        "        if (sm > right_sum):\n",
        "            right_sum = sm\n",
        " \n",
        "    # Trả về maximum array\n",
        "    return max(left_sum + right_sum, left_sum, right_sum)\n",
        " \n",
        " \n",
        "def maxSubArraySum(arr, l, r):\n",
        " \n",
        "    # Nếu có 1 phần tử\n",
        "    if (l == r):\n",
        "        return arr[l]\n",
        " \n",
        "    # Điểm giữa \n",
        "    m = (l + r) // 2\n",
        " \n",
        "    # Trả về max của 1 trong 3 giá trị\n",
        "    # a) Max trái\n",
        "    # b) Max phải \n",
        "    # c) Max của giao nhau\n",
        "    return max(maxSubArraySum(arr, l, m),\n",
        "               maxSubArraySum(arr, m+1, r),\n",
        "               maxCrossingSum(arr, l, m, r))\n",
        " \n",
        " \n",
        "n = int(input())\n",
        "arr = map(int,input().split(' '))\n",
        "\n",
        "\n",
        "max_sum = maxSubArraySum(arr, 0, n-1)\n",
        "print(max_sum)"
      ],
      "execution_count": null,
      "outputs": [
        {
          "output_type": "stream",
          "text": [
            "16\n",
            "2 -4 5 -8 4 -1 -1 1 1 1 -2 2 4 -6 9 -4\n",
            "12\n"
          ],
          "name": "stdout"
        }
      ]
    },
    {
      "cell_type": "code",
      "metadata": {
        "colab": {
          "base_uri": "https://localhost:8080/",
          "height": 154
        },
        "id": "Fz2xKjxXjxU2",
        "outputId": "de0fc193-c393-49ac-98f4-74f1537f2bd5"
      },
      "source": [
        "def FixKadane(A):\n",
        " \n",
        "    # Giá trị max lớn nhất hiện tại\n",
        "    max_so_far = -1e18\n",
        "    max_value = -1e18\n",
        "    p = 1 \n",
        "    q = 1\n",
        "    temp = 1\n",
        "    temp_1 = 0\n",
        "    p_change = [0 , 0]\n",
        "    number = 1\n",
        "    # Giá trị max tại vị trí đang thực hiện dòng lẹnh\n",
        "    max_ending_here = 0\n",
        "    for i in A:\n",
        "        # Giá trị lớn nhất của mảng\n",
        "        if max_value < i:\n",
        "          temp = number\n",
        "          max_value = i\n",
        "        #max_value = max(max_value, i)\n",
        "\n",
        "        # Chỉ số p\n",
        "        if p_change[0] == 1 and p_change[1] == 1:\n",
        "          p = temp_1\n",
        "          p_change[0] = p_change[1] = 0\n",
        "\n",
        "\n",
        "        # Thêm giá trị của arr[i] vào tổng trước đó\n",
        "        max_ending_here = max_ending_here + i\n",
        "        if max_ending_here < 0:\n",
        "          p_change[0] = 1\n",
        "          temp_1 = number + 1\n",
        "\n",
        "\n",
        "        # Nếu max_ending_here < 0 reset \n",
        "        max_ending_here = max(max_ending_here, 0)\n",
        " \n",
        "        # Cập nhật giá trị max\n",
        "        if max_so_far <= max_ending_here:\n",
        "          if p_change[0] != 1:\n",
        "            q = number\n",
        "          max_so_far = max_ending_here\n",
        "          if p_change[0] == 1:\n",
        "            p_change[1] = 1\n",
        "\n",
        "        #max_so_far = max(max_so_far, max_ending_here)\n",
        "        number += 1\n",
        "    \n",
        "\n",
        "    if max_so_far == 0:\n",
        "      if max_value < 0:\n",
        "        max_so_far = max_value\n",
        "        p = q = temp\n",
        "\n",
        "    return max_so_far, p, q\n",
        "\n",
        " \n",
        " \n",
        "\n",
        " \n",
        "n = int(input())\n",
        "arr = map(int,input().split(' '))\n",
        "\n",
        "max_sub_arr, p, q = FixKadane(arr)  \n",
        "\n",
        "print(\"The sum of contiguous sublist with the largest sum is\", max_sub_arr )\n",
        "print('p = ', p)\n",
        "print('q = ', q)\n",
        "\n",
        "\"\"\"\n",
        "Test 1: 10 / 1 -1 4 0 0 -3 -1 1 2 1\n",
        "Test 2: 16 / 2 -4 5 -8 4 -1 -1 1 1 1 -2 2 4 -6 9 -4\n",
        "Test 3: 5 / -2 -1 -3 -4 -16 \n",
        "Test 4: 6 / -2 -1 0 2 1 -3  \n",
        "Test 5: 8 / -1 -2 -4 -3 5 -1 -2 -1 -3 -4\n",
        "Test 6: 12 / 1 -1 0 1 -1 0 -1 1 0 -1 -1 1 fail\n",
        "Test 7: \n",
        "\"\"\"\n",
        "\n"
      ],
      "execution_count": null,
      "outputs": [
        {
          "output_type": "stream",
          "text": [
            "16\n",
            "2 -4 5 -8 4 -1 -1 1 1 1 -2 2 4 -6 9 -4\n",
            "The sum of contiguous sublist with the largest sum is 12\n",
            "p =  5\n",
            "q =  15\n"
          ],
          "name": "stdout"
        },
        {
          "output_type": "execute_result",
          "data": {
            "application/vnd.google.colaboratory.intrinsic+json": {
              "type": "string"
            },
            "text/plain": [
              "'\\nTest 1: 10 / 1 -1 4 0 0 -3 -1 1 2 1\\nTest 2: 16 / 2 -4 5 -8 4 -1 -1 1 1 1 -2 2 4 -6 9 -4\\nTest 3: 5 / -2 -1 -3 -4 -16 \\nTest 4: 6 / -2 -1 0 2 1 -3  \\nTest 5: 8 / -1 -2 -4 -3 5 -1 -2 -1 -3 -4\\nTest 6: 12 / 1 -1 0 1 -1 0 -1 1 0 -1 -1 1 fail\\nTest 7: \\n'"
            ]
          },
          "metadata": {
            "tags": []
          },
          "execution_count": 62
        }
      ]
    },
    {
      "cell_type": "code",
      "metadata": {
        "colab": {
          "base_uri": "https://localhost:8080/"
        },
        "id": "McXgFPpilr5M",
        "outputId": "ad917dcd-c96e-431d-a2b0-e5366f964229"
      },
      "source": [
        "import math\n",
        "def MaxSubArr(arr, n):\n",
        "  #res = -1e18 \n",
        "  #Tạo mảng sum_1_i[i+1] = sum(1->i)\n",
        "  sum_1_i = []\n",
        "  sum_1_i.append(0)\n",
        "  for k in range(1, n + 1):\n",
        "    sum_1_i.append(int(sum_1_i[k - 1] + arr[k - 1]))\n",
        "  min = []\n",
        "  min.append([sum_1_i[0], 0])\n",
        "  for i in range(1, n + 1):\n",
        "    if sum_1_i[i] < min[i - 1][0]:\n",
        "      min.append([sum_1_i[i], i])\n",
        "    else:\n",
        "      min.append(min[i-1])\n",
        "  sum_max = -1e18 \n",
        "  for i in range(1, n + 1):\n",
        "      if sum_1_i[i] - min[i][0] > sum_max:\n",
        "        sum_max = sum_1_i[i] - min[i][0]\n",
        "        p = min[i][1]\n",
        "        q = i\n",
        "\n",
        "    \n",
        "  \n",
        "  return sum_max, p + 1 ,q\n",
        "\n",
        "'''  \n",
        "  for j in range(n): #0-15\n",
        "    for i in range(j, n):#j-15\n",
        "      sum = sum_1_i[i + 1] - sum_1_i[j]\n",
        "      if sum > res:\n",
        "        res = sum\n",
        "        p = j + 1\n",
        "        q = i + 1\n",
        "  return res, p ,q\n",
        "'''\n",
        "n = int(input())\n",
        "arr = [int(x) for x in input().split()]\n",
        "\n",
        "res, p, q = MaxSubArr(arr, n)\n",
        "\n",
        "print(p, q, res)\n",
        "\n",
        "\n"
      ],
      "execution_count": null,
      "outputs": [
        {
          "output_type": "stream",
          "text": [
            "16\n",
            "2 -4 5 -8 4 -1 -1 1 1 1 -2 2 4 -6 9 -4\n",
            "6 15 12\n"
          ],
          "name": "stdout"
        }
      ]
    }
  ]
}