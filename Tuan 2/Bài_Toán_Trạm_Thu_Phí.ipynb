{
  "nbformat": 4,
  "nbformat_minor": 0,
  "metadata": {
    "colab": {
      "name": "Tuan 2/ Bài Toán Trạm Thu Phí.ipynb",
      "provenance": [],
      "collapsed_sections": [],
      "include_colab_link": true
    },
    "kernelspec": {
      "name": "python3",
      "display_name": "Python 3"
    },
    "language_info": {
      "name": "python"
    }
  },
  "cells": [
    {
      "cell_type": "markdown",
      "metadata": {
        "id": "view-in-github",
        "colab_type": "text"
      },
      "source": [
        "<a href=\"https://colab.research.google.com/github/DVNQuang/CS112.L21.KHTN.N4/blob/main/Tuan%202/B%C3%A0i_To%C3%A1n_Tr%E1%BA%A1m_Thu_Ph%C3%AD.ipynb\" target=\"_parent\"><img src=\"https://colab.research.google.com/assets/colab-badge.svg\" alt=\"Open In Colab\"/></a>"
      ]
    },
    {
      "cell_type": "markdown",
      "metadata": {
        "id": "Lvsv335Hwvy-"
      },
      "source": [
        "# **Bài Toán Trạm Thu Phí**\n",
        " BOT (Built-Operation-Transfer, có nghĩa: Xây dựng-Vận hành-Chuyển giao) là hình thức Chính phủ kêu gọi các công ty bỏ vốn xây dựng trước (Built) thông qua đấu thầu, sau đó khai thác vận hành một thời gian (Operation) và sau cùng là chuyển giao (Transfer) lại cho nhà nước sở tại.\n",
        "\n",
        "Đường cao tốc xuyên quốc gia được xây dựng theo hình thức BOT. Công ty Đa quốc gia Modern Highway trúng thầu, chia toàn bộ con đường thành $n$ đoạn. Theo tính toán của Công ty sau khi chuyển giao con đường cho chính phủ sở tại quản lý thì lãi thu được ở đoạn đường thứ $i$ là $ai$, $ai$ có thể dương, âm hoặc bằng 0, tức là với từng đoạn con có thể lãi, lỗ hoặc hòa vốn. Từng nhóm các đoạn đường liên tiếp nhau (gọi tắt là khoảng) được chia cho các công ty con thực hiện. Công ty con ASEAM Highway hiện đang có trụ sở ở nước sở tại được quyền chọn trước khoảng tùy ý (có thể là cả con đường).\n",
        "\n",
        "Dĩ nhiên Ban Giám đốc ASEAM Highway muốn chọn khoảng bắt đầu từ đoạn $p$ đến hết đoạn $q$ mang lại lợi nhuận cao nhất hoặc lỗ ít nhất nếu không có khoảng nào cho lãi.\n",
        "\n",
        "Hãy chỉ ra khoảng cần chọn và lãi thu được. Nếu có nhiều cách chọn thì chỉ ra cách chọn có p nhỏ nhất.\n",
        "\n",
        "Dữ liệu: Vào từ thiết bị nhập chuẩn:\n",
        "\n",
        "> Dòng đầu tiên chứa số nguyên $ n (1 ≤ n ≤ 10^6)$\n",
        "\n",
        "> Dòng thứ 2 chứa n số nguyên $a1, a2, . . ., an$ $(0 ≤ |ai| ≤ 10^9, i = 1 ÷ n)$.\n",
        "\n",
        "Kết quả: Đưa ra thiết bị xuất chuẩn trên một dòng 2 số nguyên $p, q$ và lãi thu được.\n",
        "# Abstraction\n",
        "Cho dãy số $A$ gồm $n$ phần tử, Tìm $p,q$ $(p < q ≤ n)$ sao cho $A_{(p,q)} = a_{p}+a_{p+1}+...+a_{q-1}+a_{q} $  có giá trị lớn nhất.\n",
        "#  Pattern Recognition\n",
        "\n",
        "# Algorithm Design\n",
        "Ta nhận thấy  $A_{(p,q)} =(a_1+a_2+...+a_{q-1}+a_{q}) -(a_1+a_2+...+a_{p-1}) $.\n",
        "Vì vậy, Ta chỉ cần tìm đoạn $A_{(1,p-1)}$ có giá trị nhỏ nhất\n",
        "# Đánh giá độ phức tạp\n",
        "\n"
      ]
    },
    {
      "cell_type": "markdown",
      "metadata": {
        "id": "0P-3O5PzoF9u"
      },
      "source": [
        "# Programming"
      ]
    },
    {
      "cell_type": "code",
      "metadata": {
        "colab": {
          "base_uri": "https://localhost:8080/"
        },
        "id": "t0JOAExwMoi3",
        "outputId": "9c769b1f-3cd1-4dbd-df7a-f83963777038"
      },
      "source": [
        "def maxCrossingSum(arr, l, m, r):\n",
        " \n",
        "    # Tìm left max\n",
        "    sm = 0\n",
        "    left_sum = -99999999\n",
        " \n",
        "    for i in range(m, l-1, -1):\n",
        "        sm = sm + arr[i]\n",
        " \n",
        "        if (sm > left_sum):\n",
        "            left_sum = sm\n",
        " \n",
        "    # Tìm right max\n",
        "    sm = 0\n",
        "    right_sum = -99999999\n",
        "    for i in range(m + 1, r + 1):\n",
        "        sm = sm + arr[i]\n",
        " \n",
        "        if (sm > right_sum):\n",
        "            right_sum = sm\n",
        " \n",
        "    # Trả về maximum array\n",
        "    return max(left_sum + right_sum, left_sum, right_sum)\n",
        " \n",
        " \n",
        "def maxSubArraySum(arr, l, r):\n",
        " \n",
        "    # Nếu có 1 phần tử\n",
        "    if (l == r):\n",
        "        return arr[l]\n",
        " \n",
        "    # Điểm giữa \n",
        "    m = (l + r) // 2\n",
        " \n",
        "    # Trả về max của 1 trong 3 giá trị\n",
        "    # a) Max trái\n",
        "    # b) Max phải \n",
        "    # c) Max của giao nhau\n",
        "    return max(maxSubArraySum(arr, l, m),\n",
        "               maxSubArraySum(arr, m+1, r),\n",
        "               maxCrossingSum(arr, l, m, r))\n",
        " \n",
        " \n",
        "n = int(input())\n",
        "temp = input().split(' ')\n",
        "\n",
        "arr = []\n",
        "for i in temp:\n",
        "  arr.append(int(i))\n",
        "\n",
        "\n",
        "max_sum = maxSubArraySum(arr, 0, n-1)\n",
        "print(max_sum)"
      ],
      "execution_count": null,
      "outputs": [
        {
          "output_type": "stream",
          "text": [
            "16\n",
            "2 -4 5 -8 4 -1 -1 1 1 1 -2 2 4 -6 9 -4\n",
            "12\n"
          ],
          "name": "stdout"
        }
      ]
    }
  ]
}