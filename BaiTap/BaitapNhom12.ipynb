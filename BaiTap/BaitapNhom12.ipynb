{
  "nbformat": 4,
  "nbformat_minor": 0,
  "metadata": {
    "colab": {
      "name": "BaiTapNhom12.ipynb",
      "provenance": [],
      "authorship_tag": "ABX9TyMexZXyX0P0nlW5ZfCd8Gur",
      "include_colab_link": true
    },
    "kernelspec": {
      "name": "python3",
      "display_name": "Python 3"
    },
    "language_info": {
      "name": "python"
    }
  },
  "cells": [
    {
      "cell_type": "markdown",
      "metadata": {
        "id": "view-in-github",
        "colab_type": "text"
      },
      "source": [
        "<a href=\"https://colab.research.google.com/github/DVNQuang/CS112.L21.KHTN.N4/blob/main/BaiTap/BaitapNhom12.ipynb\" target=\"_parent\"><img src=\"https://colab.research.google.com/assets/colab-badge.svg\" alt=\"Open In Colab\"/></a>"
      ]
    },
    {
      "cell_type": "markdown",
      "metadata": {
        "id": "p5JDFp8NE0tk"
      },
      "source": [
        "# **Abstraction:**\n",
        "Tìm số thành phần liên thông của các node có giá trị 1 trong đồ thị.\n",
        "\n",
        "# **Decomposing**\n",
        "Bài toán đã đủ nhỏ để giải quyết, Không cần phân rã\n",
        "\n",
        "# **Pattern Recognition**\n",
        "Ta thấy trong ví dụ, các số 1 nằm kề nhau tạo thành 1 chùm, giống với các điểm trên 1 đồ thị kết nối với nhau => sử dụng phương pháp đồ thị để giải quyết bài toán.\n",
        "\n",
        "$\\rightarrow$ Dùng DFS hoặc BFS để duyệt\n",
        "# **Algorithm Design**\n",
        "Sử dụng DFS\n",
        "\n",
        "Duyệt từng phần tử, nếu phần tử đó có giá trị là 1 thì đây là 1 thành phần liên thông\n",
        "\n",
        "Duyệt tiếp ra 8 phần tử xung quanh và đánh dấu đã duyệt\n",
        "\n",
        "#**Programming**\n"
      ]
    },
    {
      "cell_type": "code",
      "metadata": {
        "colab": {
          "base_uri": "https://localhost:8080/"
        },
        "id": "bbdXvJAOFDzY",
        "outputId": "277e5e30-5118-4ced-80f1-ce0d58f53fc9"
      },
      "source": [
        "arrow = [-1, -1, -1, 0, 0, 1, 1, 1]\n",
        "arcol = [-1, 0, 1, -1, 1, -1, 0, 1]\n",
        "\n",
        "def DFS(matrix, row, col):\n",
        "    if row < 0 or row >= num_row or col < 0 or col >= num_col or matrix[row][col] != 1:\n",
        "        return\n",
        "    matrix[row][col] = 0 \n",
        "    for i in range(len(arrow)):\n",
        "        DFS(matrix, row + arrow[i], col + arcol[i])\n",
        " \n",
        "def rs(mat):\n",
        "    count = 0\n",
        "    for row in range(num_row):\n",
        "        for col in range(num_col):\n",
        "            if matrix[row][col] == 1:\n",
        "                count += 1\n",
        "                DFS(mat, row, col)\n",
        "    return count\n",
        "\n",
        "print('Nhap lan luot so hang, so cot cua ma tran');\n",
        "num_row, num_col = map(int, input().split())\n",
        "matrix = []\n",
        "print('Nhap tung phan tu cua ma tran');\n",
        "for i in range(num_row):\n",
        "    tmp = list(map(int, input().split()))\n",
        "    matrix.append(tmp)\n",
        "print(\"\\n\",rs(matrix))"
      ],
      "execution_count": 10,
      "outputs": [
        {
          "output_type": "stream",
          "text": [
            "Nhap lan luot so hang, so cot cua ma tran\n",
            "3 3\n",
            "Nhap tung phan tu cua ma tran\n",
            "1 0 0\n",
            "0 1 1\n",
            "1 1 1\n",
            "\n",
            " 1\n"
          ],
          "name": "stdout"
        }
      ]
    }
  ]
}