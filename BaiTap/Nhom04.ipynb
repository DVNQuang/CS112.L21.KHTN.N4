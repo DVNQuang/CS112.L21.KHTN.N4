{
  "nbformat": 4,
  "nbformat_minor": 0,
  "metadata": {
    "colab": {
      "name": "Nhom04.ipynb",
      "provenance": [],
      "collapsed_sections": [],
      "include_colab_link": true
    },
    "kernelspec": {
      "name": "python3",
      "display_name": "Python 3"
    },
    "language_info": {
      "name": "python"
    }
  },
  "cells": [
    {
      "cell_type": "markdown",
      "metadata": {
        "id": "view-in-github",
        "colab_type": "text"
      },
      "source": [
        "<a href=\"https://colab.research.google.com/github/DVNQuang/CS112.L21.KHTN.N4/blob/main/BaiTap/Nhom04.ipynb\" target=\"_parent\"><img src=\"https://colab.research.google.com/assets/colab-badge.svg\" alt=\"Open In Colab\"/></a>"
      ]
    },
    {
      "cell_type": "markdown",
      "metadata": {
        "id": "9HLV17TRhZl7"
      },
      "source": [
        "# Bài tập Greedy algorithm\n",
        "\n",
        "\n",
        "\n",
        "\n",
        "**1. Chứng minh bài toán tìm cây khung nhỏ nhất sử dụng thuật toán Prim có đặc điểm nhận dạng của thuật toán tham lam.**\n",
        "\n",
        "> Thuật toán tham lam có 2 đặc điểm nhận dạng: \n",
        "\n",
        "> * Có đặc tính tham lam: Chọn giải pháp tốt nhất hiện tại, không xem xét lại lựa chon của mình.\n",
        "\n",
        "> * Có cấu trúc con tối ưu: Lời giải tối ưu của các bài toán con sẽ dẫn đến lời giải tối ưu của cả bài toán.\n",
        "\n",
        "> Xét thuật toán Prim cho bài toán tìm cây khung nhỏ nhất:\n",
        "\n",
        "> >  Thuật toán xuất phát từ một cây chỉ chứa đúng một đỉnh và mở rộng từng bước một, mỗi bước thêm một cạnh mới vào cây, cho tới khi bao trùm được tất cả các đỉnh của đồ thị.\n",
        "\n",
        "> * Dữ liệu vào: Một đồ thị có trọng số liên thông với tập hợp đỉnh $V$ và tập hợp cạnh $E$ (trọng số có thể âm). Đồng thời cũng dùng $V$ và $E$ để ký hiệu số đỉnh và số cạnh của đồ thị.\n",
        "\n",
        "> * Khởi tạo: $V_{new} = {x}$, trong đó $x$ là một đỉnh bất kì (đỉnh bắt đầu) trong $V$, $E_{new} =$ {}\n",
        "\n",
        "> * Lặp lại cho tới khi $V_{new} = V$:\n",
        ">  * Chọn cạnh $(u, v)$ có trọng số nhỏ nhất thỏa mãn $u$ thuộc $V_{new}$ và $v$ không thuộc $V_{new}$ (nếu có nhiều cạnh như vậy thì chọn một cạnh bất kì trong chúng)\n",
        ">  * Thêm $v$ vào $V_{new}$, và thêm cạnh $(u, v)$ vào $E_{new}$\n",
        "\n",
        "> >  $\\rightarrow$ *Đặc tính tham lam*\n",
        "\n",
        "> * Dữ liệu ra: $V_{new}$ và $E_{new}$ là tập hợp đỉnh và tập hợp cạnh của một cây bao trùm nhỏ nhất\n",
        "> > $\\rightarrow$ *Cấu trúc con tối ưu*\n",
        "\n",
        "*$\\rightarrow$ Bài toán tìm cây khung nhỏ nhất sử dụng thuật toán Prim có đặc điểm nhận dạng của thuật toán tham lam*\n",
        "\n",
        "**2. Chứng minh thuật toán tham lam áp dụng cho activity selection sẽ ra kết quả tối ưu (the correctness of greedy algorithms)**\n",
        "\n",
        "Trước khi thực hiện thuật toán tham lam, ta đã sắp xếp lại các hoạt động, theo thứ tự tăng dần thời gian hoàn thành.\n",
        "\n",
        "Vì vậy, khi thực hiện thuật thuật toán tham lam, có 2 trường hợp xảy ra:\n",
        "\n",
        "TH1: các hoạt động không trùng thời gian với nhau:$\\rightarrow$ chỉ cần chọn hoạt động đó.\n",
        "\n",
        "TH2: Một số hoạt động trùng thời gian với nhau: khi đó ta chỉ có thể chọn hoạt động có thời gian hoàn thành ngắn nhất trong các hoạt động trùng nhau đó. Trải qua quá trình thực hiện, các lựa chọn sẽ tối ưu.\n",
        "\n"
      ]
    }
  ]
}