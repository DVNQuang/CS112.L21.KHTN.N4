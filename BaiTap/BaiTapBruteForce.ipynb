{
  "nbformat": 4,
  "nbformat_minor": 0,
  "metadata": {
    "colab": {
      "name": "BaiTapBruteForce.ipynb",
      "provenance": [],
      "authorship_tag": "ABX9TyPOv7ia3gqARXjKcm/iKuo0",
      "include_colab_link": true
    },
    "kernelspec": {
      "name": "python3",
      "display_name": "Python 3"
    },
    "language_info": {
      "name": "python"
    }
  },
  "cells": [
    {
      "cell_type": "markdown",
      "metadata": {
        "id": "view-in-github",
        "colab_type": "text"
      },
      "source": [
        "<a href=\"https://colab.research.google.com/github/DVNQuang/CS112.L21.KHTN.N4/blob/main/BaiTap/BaiTapBruteForce.ipynb\" target=\"_parent\"><img src=\"https://colab.research.google.com/assets/colab-badge.svg\" alt=\"Open In Colab\"/></a>"
      ]
    },
    {
      "cell_type": "markdown",
      "metadata": {
        "id": "JCKPLoxDOJox"
      },
      "source": [
        "Given string $S$, using brute force approach to find the longest palindrome substring of $S$.\n",
        "\n",
        "**Input Format**\n",
        "\n",
        "> A string $S$.\n",
        "\n",
        "**Constraints**\n",
        "\n",
        "> $0 \\leq len(S) \\leq 2000$\n",
        "\n",
        "> $S$ can contain lowercase, uppercase and digits.\n",
        "\n",
        "**Output Format**\n",
        "\n",
        "> Print the length of the longest palindrome substring and it, separate by a space."
      ]
    },
    {
      "cell_type": "code",
      "metadata": {
        "id": "4cSvx665OISd"
      },
      "source": [
        "\n",
        "def longestPS(str):   \n",
        "  n = len(str)\n",
        "  if n == 1: \n",
        "    print(n,str)\n",
        "  else:\n",
        "    maxLength = 1\n",
        "    for i in range(1,n):\n",
        "        high=i+1\n",
        "        low=i-1\n",
        "        while low>=0 and high<n and str[low]==str[high]:\n",
        "          if high - low +1 >maxLength:\n",
        "            start=low\n",
        "            maxLength = high - low + 1\n",
        "          low= low -1\n",
        "          high=high+1\n",
        "        high = i+1\n",
        "        low = i\n",
        "        while low>=0 and high<n and str[low]==str[high]:\n",
        "          if high - low +1 >maxLength:\n",
        "            start=low\n",
        "            maxLength = high - low + 1 \n",
        "          low= low -1\n",
        "          high=high+1\n",
        "    print(maxLength,str[start:start+maxLength] )\n",
        "if __name__ == '__main__':\n",
        "  try:\n",
        "    str = input()\n",
        "    longestPS(str)\n",
        "  except EOFError:\n",
        "    print(0)\n"
      ],
      "execution_count": null,
      "outputs": []
    }
  ]
}