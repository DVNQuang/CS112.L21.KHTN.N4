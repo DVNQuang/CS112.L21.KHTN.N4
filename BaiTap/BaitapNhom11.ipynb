{
  "nbformat": 4,
  "nbformat_minor": 0,
  "metadata": {
    "colab": {
      "name": "Nhom4.ipynb",
      "provenance": [],
      "authorship_tag": "ABX9TyM6pliBEmgm5dL9bdYDW6Jl",
      "include_colab_link": true
    },
    "kernelspec": {
      "name": "python3",
      "display_name": "Python 3"
    },
    "language_info": {
      "name": "python"
    }
  },
  "cells": [
    {
      "cell_type": "markdown",
      "metadata": {
        "id": "view-in-github",
        "colab_type": "text"
      },
      "source": [
        "<a href=\"https://colab.research.google.com/github/DVNQuang/CS112.L21.KHTN.N4/blob/main/BaiTap/BaitapNhom11.ipynb\" target=\"_parent\"><img src=\"https://colab.research.google.com/assets/colab-badge.svg\" alt=\"Open In Colab\"/></a>"
      ]
    },
    {
      "cell_type": "markdown",
      "metadata": {
        "id": "ek3UK_fvJ_F0"
      },
      "source": [
        "# **1. Abstraction**\n",
        "\n",
        "Cho một mảng các số nguyên dương, từ mảng chọn 3 phần tử có tổng lớn nhất thỏa điều kiện tạo thành tam giác, nếu không có trả về -1. \n",
        "\n",
        "# **2. Decomposing**\n",
        "\n",
        "*   Duyệt từng tổ hợp 3 phần tử \n",
        "*   Chọn tổ hợp có tổng lớn nhất\n",
        "*   Kiểm tra có là cạnh tam giác\n",
        "\n",
        "# **3. Pattern Recognition**\n",
        "\n",
        "Dạng bài toán: Bài toán tham lam\n",
        "\n",
        "$\\rightarrow$ Sắp xệp thành mảng giảm dần, duyệt lần lượt đến khi thỏa điều kiện.\n",
        "\n",
        "# **4. Algorithm Design**\n",
        "\n",
        "* Sắp xếp arr[ ] thành mảng giảm dần\n",
        "* Duyệt từ arr[0] đến arr[n-2]\n",
        "> Nếu arr[i] < arr[i+1] + arr[a+2] return arr[i], arr[i+1], arr[i+2]\n",
        "* Nếu không thỏa, Return -1  \n",
        "\n",
        "#**5. Programming**"
      ]
    },
    {
      "cell_type": "code",
      "metadata": {
        "colab": {
          "base_uri": "https://localhost:8080/"
        },
        "id": "FFemDDhrJ1oq",
        "outputId": "9fe33fe0-90d6-4b58-8247-a5bd7573c366"
      },
      "source": [
        "def MaxTriangle(n, arr):\n",
        "  arr1 = sorted(arr, reverse = True)\n",
        "  for i in range(n-2):\n",
        "      if (arr1[i]<arr1[i+1] + arr1[i+2]):\n",
        "          return [arr1[i+2], arr1[i+1], arr1[i]]\n",
        "  return -1\n",
        "n = int(input())\n",
        "arr = [int (x) for x in input().split()]\n",
        "print(MaxTriangle(n, arr))"
      ],
      "execution_count": 14,
      "outputs": [
        {
          "output_type": "stream",
          "text": [
            "5\n",
            "1 5 9 3 5\n",
            "[5, 5, 9]\n"
          ],
          "name": "stdout"
        }
      ]
    }
  ]
}