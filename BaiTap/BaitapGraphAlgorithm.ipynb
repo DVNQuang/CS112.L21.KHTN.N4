{
  "nbformat": 4,
  "nbformat_minor": 0,
  "metadata": {
    "colab": {
      "name": "Untitled13.ipynb",
      "provenance": [],
      "authorship_tag": "ABX9TyN+8osEme1SI2qGGZujDZmK",
      "include_colab_link": true
    },
    "kernelspec": {
      "name": "python3",
      "display_name": "Python 3"
    },
    "language_info": {
      "name": "python"
    }
  },
  "cells": [
    {
      "cell_type": "markdown",
      "metadata": {
        "id": "view-in-github",
        "colab_type": "text"
      },
      "source": [
        "<a href=\"https://colab.research.google.com/github/DVNQuang/CS112.L21.KHTN.N4/blob/main/BaiTap/BaitapGraphAlgorithm.ipynb\" target=\"_parent\"><img src=\"https://colab.research.google.com/assets/colab-badge.svg\" alt=\"Open In Colab\"/></a>"
      ]
    },
    {
      "cell_type": "code",
      "metadata": {
        "id": "Bl3ZP0XKLzey",
        "colab": {
          "base_uri": "https://localhost:8080/"
        },
        "outputId": "d850b0c9-7a22-430a-ff74-75789345f0de"
      },
      "source": [
        "#Hàm Input\n",
        "n, m = map(int, input().split())\n",
        "graph = {}\n",
        "for i in range(m):\n",
        "    u, v, w = map(int, input().split())\n",
        "    try:\n",
        "        graph[u].append((w, v))\n",
        "    except:\n",
        "        graph[u] = [(w, v)]\n",
        "    try:\n",
        "        graph[v].append((w, u))\n",
        "    except:\n",
        "        graph[v] = [(w, u)]\n",
        "a, b, k = map(int, input().split())\n",
        "\n",
        "#Hàm đếm        \n",
        "def count_ways():\n",
        "    queue = [(0, a, -1)]\n",
        "    visited = []\n",
        "    count = 0\n",
        "    while queue:\n",
        "        sum, ver, pre = queue.pop(0)\n",
        "        if sum == k and ver == b:\n",
        "            count += 1\n",
        "            continue\n",
        "        elif sum > k or (ver == b and sum != k):\n",
        "            continue\n",
        "        else:\n",
        "            for wei, next in graph[ver]:\n",
        "                if (pre, ver, next) not in visited:\n",
        "                    visited.append((pre, ver, next))\n",
        "                    queue.append((wei + sum, next, ver))\n",
        "    return count if count > 0 else -1\n",
        "print(count_ways())"
      ],
      "execution_count": 16,
      "outputs": [
        {
          "output_type": "stream",
          "text": [
            "5 7\n",
            "0 1 3\n",
            "0 3 5\n",
            "1 3 2\n",
            "2 0 1\n",
            "3 4 1\n",
            "4 1 1\n",
            "2 3 2\n",
            "0 3 5\n",
            "3\n"
          ],
          "name": "stdout"
        }
      ]
    }
  ]
}