{
  "nbformat": 4,
  "nbformat_minor": 0,
  "metadata": {
    "colab": {
      "name": "Untitled12.ipynb",
      "provenance": [],
      "authorship_tag": "ABX9TyNZaDxCrJlrKY1CsaUC1b0J",
      "include_colab_link": true
    },
    "kernelspec": {
      "name": "python3",
      "display_name": "Python 3"
    },
    "language_info": {
      "name": "python"
    }
  },
  "cells": [
    {
      "cell_type": "markdown",
      "metadata": {
        "id": "view-in-github",
        "colab_type": "text"
      },
      "source": [
        "<a href=\"https://colab.research.google.com/github/DVNQuang/CS112.L21.KHTN.N4/blob/main/BaiTap/BaitapBranchandBound.ipynb\" target=\"_parent\"><img src=\"https://colab.research.google.com/assets/colab-badge.svg\" alt=\"Open In Colab\"/></a>"
      ]
    },
    {
      "cell_type": "markdown",
      "metadata": {
        "id": "ej26QbkwT-E3"
      },
      "source": [
        "\n",
        "# **N - Queen**\n",
        "\n",
        "You are an event coordinator for a royal event where king of N countries attend. Each king accompanies with one queen. Your job is to arrange seats for the queens in a hall consists of N × N seats while the kings are having meeting.\n",
        "\n",
        "There a rule that no queen is allowed to see another. To simplify the problem, each queen can look in 8 directions:\n",
        "\n",
        "> Front\n",
        "\n",
        "> Back\n",
        "\n",
        "> Right\n",
        "\n",
        "> Left\n",
        "\n",
        "> and 4 directions in between\n",
        "\n",
        "A queen sees another went the other queen is on the path in one of the 8 directions listed above.\n",
        "\n",
        "Use Branch and Bounch to solve Problem\n",
        "\n",
        "**Input:**\n",
        "\n",
        "N for the size of the area and numbers of queens. N = 8\n",
        "\n",
        "**Output:**\n",
        "\n",
        "1 0 0 0 0 0 0 0\n",
        "\n",
        "0 0 0 0 0 0 1 0\n",
        "\n",
        "0 0 0 0 1 0 0 0\n",
        "\n",
        "0 0 0 0 0 0 0 1\n",
        "\n",
        "0 1 0 0 0 0 0 0\n",
        "\n",
        "0 0 0 1 0 0 0 0\n",
        "\n",
        "0 0 0 0 0 1 0 0\n",
        "\n",
        "0 0 1 0 0 0 0 0\n",
        "\n"
      ]
    },
    {
      "cell_type": "code",
      "metadata": {
        "colab": {
          "base_uri": "https://localhost:8080/"
        },
        "id": "OMesZ9WMSX3d",
        "outputId": "a5949e9d-9f7c-4870-e4a3-765b1a30bef5"
      },
      "source": [
        "def check(arr,row, col,n):\n",
        "    for i in range(0,n):\n",
        "        if arr[row][i]==1 or arr[i][col]==1:\n",
        "            return False\n",
        "    for i in range(0,n):\n",
        "        for j in range(0,n):\n",
        "            if (i+j==row+col) or (i-j==row-col):\n",
        "                if arr[i][j]==1:\n",
        "                    return False\n",
        "    return True\n",
        "def Queen(arr,col,n):\n",
        "    if col >= n:\n",
        "        return True\n",
        "    for i in range(n):\n",
        "        if check(arr,i,col,n)==1:\n",
        "            arr[i][col]=1\n",
        "            if Queen(arr,col+1,n) == True:\n",
        "                return True\n",
        "            arr[i][col]=0\n",
        "    return False\n",
        "def printarr(arr,n):\n",
        "    for i in range(n):\n",
        "        for j in range(n):\n",
        "            print(arr[i][j],end=' ')\n",
        "        print(end='\\n')    \n",
        "n=int(input())\n",
        "arr=[[0]*n for _ in range(n)]\n",
        "if Queen(arr,0,n):\n",
        "    printarr(arr,n)\n",
        "else:\n",
        "    print(\"Problem can't be solved\")"
      ],
      "execution_count": 1,
      "outputs": [
        {
          "output_type": "stream",
          "text": [
            "8\n",
            "1 0 0 0 0 0 0 0 \n",
            "0 0 0 0 0 0 1 0 \n",
            "0 0 0 0 1 0 0 0 \n",
            "0 0 0 0 0 0 0 1 \n",
            "0 1 0 0 0 0 0 0 \n",
            "0 0 0 1 0 0 0 0 \n",
            "0 0 0 0 0 1 0 0 \n",
            "0 0 1 0 0 0 0 0 \n"
          ],
          "name": "stdout"
        }
      ]
    }
  ]
}