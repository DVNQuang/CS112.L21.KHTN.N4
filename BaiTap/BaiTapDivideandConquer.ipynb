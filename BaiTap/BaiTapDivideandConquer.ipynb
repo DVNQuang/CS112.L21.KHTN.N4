{
  "nbformat": 4,
  "nbformat_minor": 0,
  "metadata": {
    "colab": {
      "name": "Nhom04",
      "provenance": [],
      "collapsed_sections": []
    },
    "kernelspec": {
      "name": "python3",
      "display_name": "Python 3"
    },
    "language_info": {
      "name": "python"
    }
  },
  "cells": [
    {
      "cell_type": "markdown",
      "metadata": {
        "id": "xOZU9161oV1O"
      },
      "source": [
        "# **BÀI TẬP DIVIDE AND CONQUER**\n",
        "\n",
        "Tìm vị trí phần tử lớn nhất trong mảng gồm n phần tử, sử dụng ký thuật chia để trị\n",
        "\n",
        "1. Viết chương trình thực hiện thuật toán\n",
        "\n",
        "2. Giải recurrence relation của bài toán\n",
        "\n",
        "3. So sánh với thuật toán Brute Force"
      ]
    },
    {
      "cell_type": "markdown",
      "metadata": {
        "id": "Lp6LKUX4orX3"
      },
      "source": [
        "# 1. Chương trình thực hiện thuật toán"
      ]
    },
    {
      "cell_type": "code",
      "metadata": {
        "colab": {
          "base_uri": "https://localhost:8080/"
        },
        "id": "wmI97RgmnjDq",
        "outputId": "02f47b58-704a-4235-d820-a85be5689875"
      },
      "source": [
        "def find_maxpos(arr):\n",
        "    n=len(arr)\n",
        "    if n==1:\n",
        "        return 0\n",
        "    if n==2:\n",
        "        return 0 if arr[0]>arr[1] else 1\n",
        "    \n",
        "    mid=len(arr)//2\n",
        "    left=arr[0:mid]\n",
        "    right=arr[mid:len(arr)]\n",
        "\n",
        "    A=find_maxpos(left)\n",
        "    B=find_maxpos(right) + mid\n",
        "\n",
        "    return A if arr[A] > arr[B] else B\n",
        "n = int(input())\n",
        "Arr = []\n",
        "[Arr.append(int(i)) for i in input().split()]\n",
        "\n",
        "print(find_maxpos(Arr)+1)"
      ],
      "execution_count": 5,
      "outputs": [
        {
          "output_type": "stream",
          "text": [
            "5\n",
            "5 4 3 7 8\n",
            "5\n"
          ],
          "name": "stdout"
        }
      ]
    },
    {
      "cell_type": "markdown",
      "metadata": {
        "id": "3ziTTm0Gow_5"
      },
      "source": [
        "# 2. Giải recurrence relation của bài toán\n",
        "\n",
        "> $T(n) = 2T(n/2) + n$\n",
        "\n",
        "\n",
        "\n",
        "> $T(n) = O(nlogn)$"
      ]
    },
    {
      "cell_type": "markdown",
      "metadata": {
        "id": "0rwd0GZioxRr"
      },
      "source": [
        "# 3. So sánh với thuật toán Brute Force\n",
        "**Ưu điểm**\n",
        "\n",
        "> Độ phức tạp nhỏ hơn.\n",
        "\n",
        "> Thời gian thực thi nhanh hơn.\n",
        "\n",
        "**Nhược điểm**\n",
        "\n",
        "> Khó cài đặt hơn .\n",
        "\n",
        "> Tốn bộ nhớ ."
      ]
    }
  ]
}
