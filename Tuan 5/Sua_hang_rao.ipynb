{
  "nbformat": 4,
  "nbformat_minor": 0,
  "metadata": {
    "colab": {
      "name": "Sua_hang_rao.ipynb",
      "provenance": [],
      "authorship_tag": "ABX9TyMjlz91LC85QQ2V+SW+WPQj",
      "include_colab_link": true
    },
    "kernelspec": {
      "name": "python3",
      "display_name": "Python 3"
    },
    "language_info": {
      "name": "python"
    }
  },
  "cells": [
    {
      "cell_type": "markdown",
      "metadata": {
        "id": "view-in-github",
        "colab_type": "text"
      },
      "source": [
        "<a href=\"https://colab.research.google.com/github/DVNQuang/CS112.L21.KHTN.N4/blob/main/Tuan%205/Sua_hang_rao.ipynb\" target=\"_parent\"><img src=\"https://colab.research.google.com/assets/colab-badge.svg\" alt=\"Open In Colab\"/></a>"
      ]
    },
    {
      "cell_type": "code",
      "metadata": {
        "id": "iTGi4vcC_pob"
      },
      "source": [
        "def bin_search(A, B, min_A, max_can, n, m):\n",
        "    while min_A < max_can:\n",
        "        mid = (min_A + max_can) // 2\n",
        "        if check(mid, A, B, n, m) == True:\n",
        "            min_A = mid + 1\n",
        "        else: \n",
        "            max_can = mid - 1\n",
        "\n",
        "    res = []\n",
        "    j = 0\n",
        "    for no in range(n): \n",
        "      if A[no] < max_can: \n",
        "        while j < m:\n",
        "          if A[no] + B[j] >= max_can:\n",
        "            res.append((no + 1, j + 1))\n",
        "            j += 1\n",
        "            break\n",
        "          j += 1\n",
        "\n",
        "\n",
        "    print(max_can, len(res))\n",
        "    for x in res:\n",
        "      print(x[0], x[1])"
      ],
      "execution_count": 56,
      "outputs": []
    },
    {
      "cell_type": "code",
      "metadata": {
        "colab": {
          "base_uri": "https://localhost:8080/"
        },
        "id": "hJQN-fpHqBek",
        "outputId": "6dbb13c5-0111-4b4f-9813-50216deef0e0"
      },
      "source": [
        "def check(num, A, B, n, m):\n",
        "  j = 0\n",
        "  for i in range(n):\n",
        "    if A[i] < num: \n",
        "      temp = False\n",
        "      while j < m:\n",
        "        if A[i] + B[j] >= num:\n",
        "          temp = True\n",
        "          j += 1\n",
        "          break\n",
        "        j += 1\n",
        "      if temp == False:\n",
        "        return False\n",
        "  return True\n",
        "\n",
        "          \n",
        "def find(A, B, max_can, min_A, n, m):\n",
        "  for i in range(max_can, min_A, -1):\n",
        "    if check(i, A, B, n, m) == True:\n",
        "      res = []\n",
        "      j = 0\n",
        "      for no in range(n): \n",
        "        if A[no] < i: \n",
        "          while j < m:\n",
        "            if A[no] + B[j] >= i:\n",
        "              res.append((no + 1, j + 1))\n",
        "              j += 1\n",
        "              break\n",
        "            j += 1\n",
        "\n",
        "      print(i, len(res))\n",
        "      for x in res:\n",
        "        print(x[0], x[1])\n",
        "      break\n",
        "\n",
        "\n",
        "\n",
        "n = int(input())\n",
        "A = [int(x) for x in input().split()]\n",
        "m = int(input())\n",
        "B = [int(x) for x in input().split()]\n",
        "\n",
        "max_can = min(A) + max(B)\n",
        "min_A = min(A)\n",
        "\n",
        "\n",
        "find(A, B, max_can, min_A, n, m)"
      ],
      "execution_count": 38,
      "outputs": [
        {
          "output_type": "stream",
          "text": [
            "5 3\n",
            "1 2\n",
            "3 3\n",
            "4 6\n"
          ],
          "name": "stdout"
        }
      ]
    },
    {
      "cell_type": "code",
      "metadata": {
        "colab": {
          "base_uri": "https://localhost:8080/"
        },
        "id": "tWR34Zu0B6Ac",
        "outputId": "34c53690-1de6-4872-daaf-439defba7544"
      },
      "source": [
        "n = 6\n",
        "A = [2, 5, 4, 1, 7, 5]\n",
        "m = 7\n",
        "B = [2, 3, 1, 3, 2, 4, 6]\n",
        "\n",
        "max_can = min(A) + max(B)\n",
        "min_A = min(A)\n",
        "\n",
        "bin_search(A, B, min_A, max_can, n, m)"
      ],
      "execution_count": 57,
      "outputs": [
        {
          "output_type": "stream",
          "text": [
            "5 3\n",
            "1 2\n",
            "3 3\n",
            "4 6\n"
          ],
          "name": "stdout"
        }
      ]
    },
    {
      "cell_type": "code",
      "metadata": {
        "colab": {
          "base_uri": "https://localhost:8080/"
        },
        "id": "EuwcnUOnE3fa",
        "outputId": "4064f89a-8207-4c71-9935-28417faef9f5"
      },
      "source": [
        "def check(num, A, B, n, m):\n",
        "  j = 0\n",
        "  for i in range(n):\n",
        "    if A[i] < num: \n",
        "      temp = False\n",
        "      while j < m:\n",
        "        if A[i] + B[j] >= num:\n",
        "          temp = True\n",
        "          j += 1\n",
        "          break\n",
        "        j += 1\n",
        "      if temp == False:\n",
        "        return False\n",
        "  return True\n",
        "\n",
        "\n",
        "def bin_search(A, B, min_A, max_can, n, m):\n",
        "    while min_A < max_can:\n",
        "        mid = (min_A + max_can) // 2\n",
        "        if check(mid, A, B, n, m) == True:\n",
        "            min_A = mid + 1\n",
        "        else: \n",
        "            max_can = mid - 1\n",
        "\n",
        "    res = []\n",
        "    j = 0\n",
        "    for no in range(n): \n",
        "      if A[no] < max_can: \n",
        "        while j < m:\n",
        "          if A[no] + B[j] >= max_can:\n",
        "            res.append((no + 1, j + 1))\n",
        "            j += 1\n",
        "            break\n",
        "          j += 1\n",
        "\n",
        "    print(max_can, len(res))\n",
        "    for x in res:\n",
        "      print(x[0], x[1])\n",
        "\n",
        "n = 6\n",
        "A = [2, 5, 4, 1, 7, 5]\n",
        "m = 7\n",
        "B = [2, 3, 1, 3, 2, 4, 6]\n",
        "\n",
        "\n",
        "max_can = min(A) + max(B)\n",
        "min_A = min(A)\n",
        "\n",
        "bin_search(A, B, min_A, max_can, n, m)"
      ],
      "execution_count": 69,
      "outputs": [
        {
          "output_type": "stream",
          "text": [
            "5 3\n",
            "1 2\n",
            "3 3\n",
            "4 6\n"
          ],
          "name": "stdout"
        }
      ]
    },
    {
      "cell_type": "code",
      "metadata": {
        "id": "ojV4LLH0LPCw"
      },
      "source": [
        "def bin_search(A, B, min_A, max_can, n, m):\n",
        "    while min_A <= max_can:\n",
        "        mid = (min_A + max_can) // 2\n",
        "        if check(mid, A, B, n, m) == True:\n",
        "            min_A = mid + 1\n",
        "        else: \n",
        "            max_can = mid - 1\n",
        "\n",
        "    res = []\n",
        "    j = 0\n",
        "    for no in range(n): \n",
        "      if A[no] < max_can: \n",
        "        while j < m:\n",
        "          if A[no] + B[j] >= max_can:\n",
        "            j += 1\n",
        "            break\n",
        "          j += 1\n",
        "        res.append((no + 1, j))\n",
        "\n",
        "    print(max_can, len(res))\n",
        "    for x in res:\n",
        "      print(x[0], x[1])\n",
        "      \n",
        "def check(num, A, B, n, m):\n",
        "  j = 0\n",
        "  for i in range(n):\n",
        "    if A[i] < num: \n",
        "      temp = False\n",
        "      while j < m:\n",
        "        if A[i] + B[j] >= num:\n",
        "          temp = True\n",
        "          j += 1\n",
        "          break\n",
        "        j += 1\n",
        "      if temp == False:\n",
        "        return False\n",
        "  return True\n",
        "\n",
        "n = int(input())\n",
        "A = [int(x) for x in input().split()]\n",
        "m = int(input())\n",
        "B = [int(x) for x in input().split()]\n",
        "\n",
        "max_can = min(A) + max(B)\n",
        "min_A = min(A)\n",
        "\n",
        "bin_search(A, B, min_A, max_can, n, m)"
      ],
      "execution_count": null,
      "outputs": []
    }
  ]
}