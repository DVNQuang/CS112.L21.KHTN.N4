{
  "nbformat": 4,
  "nbformat_minor": 0,
  "metadata": {
    "colab": {
      "name": "Sua_hang_rao.ipynb",
      "provenance": [],
      "include_colab_link": true
    },
    "kernelspec": {
      "name": "python3",
      "display_name": "Python 3"
    },
    "language_info": {
      "name": "python"
    }
  },
  "cells": [
    {
      "cell_type": "markdown",
      "metadata": {
        "id": "view-in-github",
        "colab_type": "text"
      },
      "source": [
        "<a href=\"https://colab.research.google.com/github/DVNQuang/CS112.L21.KHTN.N4/blob/main/Tuan%205/Sua_hang_rao.ipynb\" target=\"_parent\"><img src=\"https://colab.research.google.com/assets/colab-badge.svg\" alt=\"Open In Colab\"/></a>"
      ]
    },
    {
      "cell_type": "markdown",
      "metadata": {
        "id": "tfyCYIBYSQD9"
      },
      "source": [
        "#**SỬA HÀNG RÀO**\n",
        "\n",
        "Sau khi dựng xong nhà kho chứa cỏ, dì Poly quyết định dùng $m$ tấm gỗ còn thừa gia cố hàng rào của vườn rau ngăn không cho gà vào phá và giao công việc này cho Tôm và Hấc Phin làm. Nhiệm vụ của hai cậu bé tội nghiệp là đóng thêm vào các tấm ván hàng rào để có hàng rào mới càng cao càng tốt. Nhìn vẽ mặt buồn thiu và lóng ngóng của 2 đứa Jim quyết định sẽ làm giúp. Hàng rào được ghép từ n tấm gỗ cùng độ rộng như nhau và bằng độ rộng của các tấm gỗ còn thừa, tấm thứ i có độ cao $a_i$, $i = 1 ÷ n$. Tôm và Hấc Phin chỉ phải xếp các tấm còn thừa lên xe ba gác để Jim kéo đi. Các tấm gỗ được xếp thành một chồng, tính từ trên xuống tấm thứ j có độ dài $b_j$, $j = 1 ÷ m$. Jim kéo xe ba gác đi dọc theo hàng rào. Đến một tấm nào đó muốn gia cố Jim sẽ lấy một tấm gỗ từ xe đóng tiếp lên tấm gỗ trên hàng rào và độ cao mới của tấm này trên hàng rào sẽ là tổng độ cao của tấm cũ và tấm mới đóng thêm. Jim chỉ đóng thêm một tấm mới vào tấm cũ vì muốn đảm bảo độ chắc chắn của hàng rào. Jim có thể lấy tấm trên cùng ở xe hoặc vất ra khỏi xe một số tấm cho đến khi gặp tấm vừa ý. Người ta vẫn nói “Khôn đâu tới trẻ, khỏe đâu tới già!” Jim đã đứng tuổi và không còn sức để xếp lại các tấm gỗ bị bỏ ra vào xe. Ngoài ra, Jim cũng khá mê tín nên không quay lại lấy những tấm đã loại.\n",
        "\n",
        "Hãy xác định độ cao lớn nhất có thể đạt được của hàng rào sau khi gia cố. Độ cao của hàng rào được tính bằng độ cao tấm gỗ thấp nhất trên hàng rào.\n",
        "\n",
        "**Dữ liệu**: Vào từ thiết bị nhập chuẩn:\n",
        "\n",
        "Dòng đầu tiên chứa số nguyên n (1 ≤ n ≤ $10^5$),\n",
        "\n",
        "Dòng thứ 2 chứa n số nguyên $a_1$, $a_2$, . . ., $a_n$ (1 ≤ $a_i$ ≤ $10^8$, i = 1 ÷ n),\n",
        "\n",
        "Dòng thứ 3 chứa số nguyên m (1 ≤ m ≤ $10^5$),\n",
        "\n",
        "Dòng cuối cùng chứa m số nguyên $b_1$, $b_2$, . . ., $b_m$ (1 ≤ $b_j$ ≤ $10^8$, j = 1÷ m).\n",
        "\n",
        "**Kết quả**: Đưa ra thiết bị xuất chuẩn, \n",
        "> Dòng đầu tiên chứa $2$ số nguyên $h$ và $k$ – độ cao lớn nhất có thể của hàng rào và số tấm gỗ đã được đóng thêm.\n",
        "\n",
        "> Mỗi dòng trong $k$ dòng tiếp theo chứa 2 số nguyên $x$ và $y$, trong đó $x$ – tấm gỗ trên hàng rào được đóng cao hơn, $y$ – tấm gỗ được dùng để đóng. Đưa ra phương án có các số hiệu tấm ván được chọn là nhỏ nhất nếu tồn tại nhiều cách đóng khác nhau.\n"
      ]
    },
    {
      "cell_type": "markdown",
      "metadata": {
        "id": "DUEAlEsZZKIU"
      },
      "source": [
        "# Abstraction\n",
        "Cho 2 dãy số A, B, từ A và B lấy các phần tử để tạo thành dãy C sao cho chỉ số các phần tử từ A, B tăng dần và phần tử nhỏ nhất trong dãy A khi kết hợp là lớn nhất có thể.\n",
        "\n",
        "#Pattern Regconition\n",
        "Dạng bài toán : Divide and Conquer\n",
        "\n",
        "Sử dụng tìm kiếm nhị phân\n",
        "#Algorithm Design\n",
        "\n",
        "```\n",
        "FUNCTION binary_selection:\n",
        "    DECLARE left = min(A)\n",
        "    DECLARE right = min(A) + max(B)\n",
        "\n",
        "    WHILE(left <= right):\n",
        "        mid = (left + right) // 2\n",
        "        IF (check(mid)):\n",
        "            left = mid + 1\n",
        "        ELSE:\n",
        "            right = mid - 1\n",
        "    RETURN right\n",
        "```\n",
        "Bước 1: Sử dụng tìm kiếm nhị phân tìm lựa chọn khả thi\n",
        "\n",
        " Tìm  giá trị nhỏ nhất của mảng A và tổng giá trị nhỏ nhất của dãy A và giá trị lớn nhất của dãy B.\n",
        "\n",
        "Chọn phần tử trung vị của tập tìm kiếm và kiểm tra bằng hàm kiểm tra lựa chọn, nếu kết quả trả về là True (có thể tạo được dãy mới sao cho giá trị nhỏ nhất thỏa mãn phần tử trung vị) thì tiếp tục thử ở đoạn bên phải, nếu kết quả trả về False thì tìm ở đoạn bên trái.\n",
        "\n",
        "Bước 2: Hàm Kiểm tra lựa chọn \n",
        "\n",
        "Kiểm tra từng phần tử trong A cộng thêm phần tử ở dãy B có lớn hơn phần tử trung vị được chọn không, nếu không thỏa thì chọn phần tử tiếp theo của dãy B. Nếu duyệt hết dãy A thì trả về True, nếu dãy A chưa thỏa hết mà không còn phần tử dãy B thì trả về False\n",
        "\n",
        "#Đánh Giá Độ Phức Tạp\n",
        "Độ phức tạp $O(nlog(n))$ \n",
        "# Programming\n",
        "\n"
      ]
    },
    {
      "cell_type": "code",
      "metadata": {
        "id": "iTGi4vcC_pob"
      },
      "source": [
        "def bin_search(A, B, min_A, max_can, n, m):\n",
        "    while min_A < max_can:\n",
        "        mid = (min_A + max_can) // 2\n",
        "        if check(mid, A, B, n, m) == True:\n",
        "            min_A = mid + 1\n",
        "        else: \n",
        "            max_can = mid - 1\n",
        "\n",
        "    res = []\n",
        "    j = 0\n",
        "    for no in range(n): \n",
        "      if A[no] < max_can: \n",
        "        while j < m:\n",
        "          if A[no] + B[j] >= max_can:\n",
        "            res.append((no + 1, j + 1))\n",
        "            j += 1\n",
        "            break\n",
        "          j += 1\n",
        "\n",
        "\n",
        "    print(max_can, len(res))\n",
        "    for x in res:\n",
        "      print(x[0], x[1])"
      ],
      "execution_count": null,
      "outputs": []
    },
    {
      "cell_type": "code",
      "metadata": {
        "colab": {
          "base_uri": "https://localhost:8080/"
        },
        "id": "hJQN-fpHqBek",
        "outputId": "6dbb13c5-0111-4b4f-9813-50216deef0e0"
      },
      "source": [
        "def check(num, A, B, n, m):\n",
        "  j = 0\n",
        "  for i in range(n):\n",
        "    if A[i] < num: \n",
        "      temp = False\n",
        "      while j < m:\n",
        "        if A[i] + B[j] >= num:\n",
        "          temp = True\n",
        "          j += 1\n",
        "          break\n",
        "        j += 1\n",
        "      if temp == False:\n",
        "        return False\n",
        "  return True\n",
        "\n",
        "          \n",
        "def find(A, B, max_can, min_A, n, m):\n",
        "  for i in range(max_can, min_A, -1):\n",
        "    if check(i, A, B, n, m) == True:\n",
        "      res = []\n",
        "      j = 0\n",
        "      for no in range(n): \n",
        "        if A[no] < i: \n",
        "          while j < m:\n",
        "            if A[no] + B[j] >= i:\n",
        "              res.append((no + 1, j + 1))\n",
        "              j += 1\n",
        "              break\n",
        "            j += 1\n",
        "\n",
        "      print(i, len(res))\n",
        "      for x in res:\n",
        "        print(x[0], x[1])\n",
        "      break\n",
        "\n",
        "\n",
        "\n",
        "n = int(input())\n",
        "A = [int(x) for x in input().split()]\n",
        "m = int(input())\n",
        "B = [int(x) for x in input().split()]\n",
        "\n",
        "max_can = min(A) + max(B)\n",
        "min_A = min(A)\n",
        "\n",
        "\n",
        "find(A, B, max_can, min_A, n, m)"
      ],
      "execution_count": null,
      "outputs": [
        {
          "output_type": "stream",
          "text": [
            "5 3\n",
            "1 2\n",
            "3 3\n",
            "4 6\n"
          ],
          "name": "stdout"
        }
      ]
    },
    {
      "cell_type": "code",
      "metadata": {
        "colab": {
          "base_uri": "https://localhost:8080/"
        },
        "id": "tWR34Zu0B6Ac",
        "outputId": "34c53690-1de6-4872-daaf-439defba7544"
      },
      "source": [
        "n = 6\n",
        "A = [2, 5, 4, 1, 7, 5]\n",
        "m = 7\n",
        "B = [2, 3, 1, 3, 2, 4, 6]\n",
        "\n",
        "max_can = min(A) + max(B)\n",
        "min_A = min(A)\n",
        "\n",
        "bin_search(A, B, min_A, max_can, n, m)"
      ],
      "execution_count": null,
      "outputs": [
        {
          "output_type": "stream",
          "text": [
            "5 3\n",
            "1 2\n",
            "3 3\n",
            "4 6\n"
          ],
          "name": "stdout"
        }
      ]
    },
    {
      "cell_type": "code",
      "metadata": {
        "colab": {
          "base_uri": "https://localhost:8080/"
        },
        "id": "EuwcnUOnE3fa",
        "outputId": "4064f89a-8207-4c71-9935-28417faef9f5"
      },
      "source": [
        "def check(num, A, B, n, m):\n",
        "  j = 0\n",
        "  for i in range(n):\n",
        "    if A[i] < num: \n",
        "      temp = False\n",
        "      while j < m:\n",
        "        if A[i] + B[j] >= num:\n",
        "          temp = True\n",
        "          j += 1\n",
        "          break\n",
        "        j += 1\n",
        "      if temp == False:\n",
        "        return False\n",
        "  return True\n",
        "\n",
        "\n",
        "def bin_search(A, B, min_A, max_can, n, m):\n",
        "    while min_A < max_can:\n",
        "        mid = (min_A + max_can) // 2\n",
        "        if check(mid, A, B, n, m) == True:\n",
        "            min_A = mid + 1\n",
        "        else: \n",
        "            max_can = mid - 1\n",
        "\n",
        "    res = []\n",
        "    j = 0\n",
        "    for no in range(n): \n",
        "      if A[no] < max_can: \n",
        "        while j < m:\n",
        "          if A[no] + B[j] >= max_can:\n",
        "            res.append((no + 1, j + 1))\n",
        "            j += 1\n",
        "            break\n",
        "          j += 1\n",
        "\n",
        "    print(max_can, len(res))\n",
        "    for x in res:\n",
        "      print(x[0], x[1])\n",
        "\n",
        "n = 6\n",
        "A = [2, 5, 4, 1, 7, 5]\n",
        "m = 7\n",
        "B = [2, 3, 1, 3, 2, 4, 6]\n",
        "\n",
        "\n",
        "max_can = min(A) + max(B)\n",
        "min_A = min(A)\n",
        "\n",
        "bin_search(A, B, min_A, max_can, n, m)"
      ],
      "execution_count": null,
      "outputs": [
        {
          "output_type": "stream",
          "text": [
            "5 3\n",
            "1 2\n",
            "3 3\n",
            "4 6\n"
          ],
          "name": "stdout"
        }
      ]
    },
    {
      "cell_type": "code",
      "metadata": {
        "id": "ojV4LLH0LPCw"
      },
      "source": [
        "def bin_search(A, B, min_A, max_can, n, m):\n",
        "    while min_A <= max_can:\n",
        "        mid = (min_A + max_can) // 2\n",
        "        if check(mid, A, B, n, m) == True:\n",
        "            min_A = mid + 1\n",
        "        else: \n",
        "            max_can = mid - 1\n",
        "\n",
        "    res = []\n",
        "    j = 0\n",
        "    for no in range(n): \n",
        "      if A[no] < max_can: \n",
        "        while j < m:\n",
        "          if A[no] + B[j] >= max_can:\n",
        "            j += 1\n",
        "            break\n",
        "          j += 1\n",
        "        res.append((no + 1, j))\n",
        "\n",
        "    print(max_can, len(res))\n",
        "    for x in res:\n",
        "      print(x[0], x[1])\n",
        "      \n",
        "def check(num, A, B, n, m):\n",
        "  j = 0\n",
        "  for i in range(n):\n",
        "    if A[i] < num: \n",
        "      temp = False\n",
        "      while j < m:\n",
        "        if A[i] + B[j] >= num:\n",
        "          temp = True\n",
        "          j += 1\n",
        "          break\n",
        "        j += 1\n",
        "      if temp == False:\n",
        "        return False\n",
        "  return True\n",
        "\n",
        "n = int(input())\n",
        "A = [int(x) for x in input().split()]\n",
        "m = int(input())\n",
        "B = [int(x) for x in input().split()]\n",
        "\n",
        "max_can = min(A) + max(B)\n",
        "min_A = min(A)\n",
        "\n",
        "bin_search(A, B, min_A, max_can, n, m)"
      ],
      "execution_count": null,
      "outputs": []
    }
  ]
}