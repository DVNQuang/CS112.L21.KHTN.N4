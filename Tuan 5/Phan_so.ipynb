{
  "nbformat": 4,
  "nbformat_minor": 0,
  "metadata": {
    "colab": {
      "name": "Phan_so.ipynb",
      "provenance": [],
      "collapsed_sections": [],
      "authorship_tag": "ABX9TyPQwvAxJDHxxwIPLKryFBLO",
      "include_colab_link": true
    },
    "kernelspec": {
      "name": "python3",
      "display_name": "Python 3"
    },
    "language_info": {
      "name": "python"
    }
  },
  "cells": [
    {
      "cell_type": "markdown",
      "metadata": {
        "id": "view-in-github",
        "colab_type": "text"
      },
      "source": [
        "<a href=\"https://colab.research.google.com/github/DVNQuang/CS112.L21.KHTN.N4/blob/main/Tuan%205/Phan_so.ipynb\" target=\"_parent\"><img src=\"https://colab.research.google.com/assets/colab-badge.svg\" alt=\"Open In Colab\"/></a>"
      ]
    },
    {
      "cell_type": "code",
      "metadata": {
        "id": "PmsRBReBeoIq"
      },
      "source": [
        "def rut_gon(a, b):\n",
        "  t1 = a\n",
        "  t2 = b\n",
        "  temp = 0\n",
        "  while t2 != 0:\n",
        "    temp = t1 % t2\n",
        "    t1 = t2\n",
        "    t2 = temp\n",
        "\n",
        "  a = a / t1\n",
        "  b = b / t1\n",
        "  return a, b"
      ],
      "execution_count": null,
      "outputs": []
    },
    {
      "cell_type": "code",
      "metadata": {
        "id": "hye3EzqYb4NC"
      },
      "source": [
        "def phan_so(a, b, c, d):\n",
        "  count = 0\n",
        "  while 1:\n",
        "    if a / b > c / d:\n",
        "      return 0\n",
        "    a, b = rut_gon(a, b)\n",
        "    if a / b == c / d:\n",
        "      return count\n",
        "    else:\n",
        "      count += 1\n",
        "      a += 1\n",
        "      b += 1\n"
      ],
      "execution_count": null,
      "outputs": []
    },
    {
      "cell_type": "code",
      "metadata": {
        "id": "AKILjI0xeuMZ",
        "colab": {
          "base_uri": "https://localhost:8080/"
        },
        "outputId": "dc3edfcc-1608-48f6-ec4a-e3bd6506fe12"
      },
      "source": [
        "a = int(input())\n",
        "b = int(input())\n",
        "c = int(input())\n",
        "d = int(input())\n",
        "print(phan_so(a, b, c, d))"
      ],
      "execution_count": null,
      "outputs": [
        {
          "output_type": "stream",
          "text": [
            "1\n",
            "6\n",
            "2\n",
            "3\n",
            "5\n"
          ],
          "name": "stdout"
        }
      ]
    }
  ]
}