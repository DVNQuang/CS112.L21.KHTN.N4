{
  "nbformat": 4,
  "nbformat_minor": 0,
  "metadata": {
    "colab": {
      "name": "Phan_so.ipynb",
      "provenance": [],
      "collapsed_sections": [],
      "include_colab_link": true
    },
    "kernelspec": {
      "name": "python3",
      "display_name": "Python 3"
    },
    "language_info": {
      "name": "python"
    }
  },
  "cells": [
    {
      "cell_type": "markdown",
      "metadata": {
        "id": "view-in-github",
        "colab_type": "text"
      },
      "source": [
        "<a href=\"https://colab.research.google.com/github/DVNQuang/CS112.L21.KHTN.N4/blob/main/Tuan%205/Phan_so.ipynb\" target=\"_parent\"><img src=\"https://colab.research.google.com/assets/colab-badge.svg\" alt=\"Open In Colab\"/></a>"
      ]
    },
    {
      "cell_type": "markdown",
      "metadata": {
        "id": "41tyQm-WKOtN"
      },
      "source": [
        "# **PHÂN SỐ**\n",
        "\n",
        "Cho 2 phân số đúng và tối giản $\\frac{a}{b}$, $\\frac{c}{d}$. Mỗi phép biến đổi là tăng $a$ và $b$ lên $1$, sau đó giản ước phân số nhận được.\n",
        "\n",
        "Hãy xác định sau bao nhiêu bước biến đổi từ phân số thứ nhất ban đầu nhận được phân số thứ 2 đã cho.\n",
        "\n",
        "Dữ liệu: Vào từ thiết bị nhập chuẩn gồm 4 dòng, mỗi dòng chứa 1 số nguyên $a, b, c, d$, $0 < a < b ≤10^5, 0 < c < d ≤ 10^5$, $a$ và $b$ nguyên tố cùng nhau, $c$ và $d$ nguyên tố cùng nhau $\\frac{a}{b}$ ≠ $\\frac{c}{d}$\n",
        "\n",
        "Kết quả: Đưa ra thiết bị xuất chuẩn số $0$ nếu không có cách biến đổi hoặc một số nguyên – số lượng phép biến đổi."
      ]
    },
    {
      "cell_type": "markdown",
      "metadata": {
        "id": "72BGzsUMLVlO"
      },
      "source": [
        "#Abstraction#\n",
        "\n",
        "Cho 4 số nguyên tố cùng nhau $a,b,c,d$ $( a, b, c, d, 0 < a < b ≤10^5, 0 < c < d ≤ 10^5$, $\\frac{a}{b}$ ≠ $\\frac{c}{d})$, sau mỗi bước biến đổi $a=a+1$, $b=b+1$ và $\\frac{a}{b}$ tối giản. Tính số bước biến đổi để $a/b =c/d$.\n",
        "\n",
        "#Pattern Recognition#\n",
        "* Duyệt tuyến tính\n",
        "\n",
        "#Algorithm Design#\n",
        "\n",
        "Tạo hàm rutgon để tối giản phân số\n",
        "\n",
        "Tạo vòng lặp\n",
        "Mỗi vòn lặp cho a, b tăng lên 1 đơn vị và rút gọn phân số $\\frac{a}{b}$  \n",
        "* Biến count đếm số lần lặp\n",
        "* Khi $a/b > c/d$ **return** 0\n",
        "* Khi $a/b == c/d$ **return** 1\n",
        "\n",
        "# Độ phức tạp thuật toán#\n",
        "Độ phức tạp: $O((n - m)\\log{b})$ với $n = bc$ và $m = ad$\n",
        "# Programming#\n"
      ]
    },
    {
      "cell_type": "code",
      "metadata": {
        "id": "PmsRBReBeoIq"
      },
      "source": [
        "def rut_gon(a, b):\n",
        "  t1 = a\n",
        "  t2 = b\n",
        "  temp = 0\n",
        "  while t2 != 0:\n",
        "    temp = t1 % t2\n",
        "    t1 = t2\n",
        "    t2 = temp\n",
        "\n",
        "  a = a / t1\n",
        "  b = b / t1\n",
        "  return a, b"
      ],
      "execution_count": null,
      "outputs": []
    },
    {
      "cell_type": "code",
      "metadata": {
        "id": "hye3EzqYb4NC"
      },
      "source": [
        "def phan_so(a, b, c, d):\n",
        "  count = 0\n",
        "  while 1:\n",
        "    if a / b > c / d:\n",
        "      return 0\n",
        "    a, b = rut_gon(a, b)\n",
        "    if a / b == c / d:\n",
        "      return count\n",
        "    else:\n",
        "      count += 1\n",
        "      a += 1\n",
        "      b += 1\n"
      ],
      "execution_count": null,
      "outputs": []
    },
    {
      "cell_type": "code",
      "metadata": {
        "id": "AKILjI0xeuMZ",
        "colab": {
          "base_uri": "https://localhost:8080/"
        },
        "outputId": "dc3edfcc-1608-48f6-ec4a-e3bd6506fe12"
      },
      "source": [
        "a = int(input())\n",
        "b = int(input())\n",
        "c = int(input())\n",
        "d = int(input())\n",
        "print(phan_so(a, b, c, d))"
      ],
      "execution_count": null,
      "outputs": [
        {
          "output_type": "stream",
          "text": [
            "1\n",
            "6\n",
            "2\n",
            "3\n",
            "5\n"
          ],
          "name": "stdout"
        }
      ]
    }
  ]
}