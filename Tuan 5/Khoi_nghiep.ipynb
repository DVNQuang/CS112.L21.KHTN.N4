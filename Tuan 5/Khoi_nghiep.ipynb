{
  "nbformat": 4,
  "nbformat_minor": 0,
  "metadata": {
    "colab": {
      "name": "Khoi_nghiep.ipynb",
      "provenance": [],
      "authorship_tag": "ABX9TyOOdMmpx8K5JA9MbR7nfGGh",
      "include_colab_link": true
    },
    "kernelspec": {
      "name": "python3",
      "display_name": "Python 3"
    },
    "language_info": {
      "name": "python"
    }
  },
  "cells": [
    {
      "cell_type": "markdown",
      "metadata": {
        "id": "view-in-github",
        "colab_type": "text"
      },
      "source": [
        "<a href=\"https://colab.research.google.com/github/DVNQuang/CS112.L21.KHTN.N4/blob/main/Tuan%205/Khoi_nghiep.ipynb\" target=\"_parent\"><img src=\"https://colab.research.google.com/assets/colab-badge.svg\" alt=\"Open In Colab\"/></a>"
      ]
    },
    {
      "cell_type": "code",
      "metadata": {
        "colab": {
          "base_uri": "https://localhost:8080/"
        },
        "id": "hJQN-fpHqBek",
        "outputId": "6dbb13c5-0111-4b4f-9813-50216deef0e0"
      },
      "source": [
        "def check(num, A, B, n, m):\n",
        "  j = 0\n",
        "  for i in range(n):\n",
        "    if A[i] < num: \n",
        "      temp = False\n",
        "      while j < m:\n",
        "        if A[i] + B[j] >= num:\n",
        "          temp = True\n",
        "          j += 1\n",
        "          break\n",
        "        j += 1\n",
        "      if temp == False:\n",
        "        return False\n",
        "  return True\n",
        "\n",
        "          \n",
        "def find(A, B, max_can, min_A, n, m):\n",
        "  for i in range(max_can, min_A, -1):\n",
        "    if check(i, A, B, n, m) == True:\n",
        "      res = []\n",
        "      j = 0\n",
        "      for no in range(n): \n",
        "        if A[no] < i: \n",
        "          while j < m:\n",
        "            if A[no] + B[j] >= i:\n",
        "              res.append((no + 1, j + 1))\n",
        "              j += 1\n",
        "              break\n",
        "            j += 1\n",
        "\n",
        "      print(i, len(res))\n",
        "      for x in res:\n",
        "        print(x[0], x[1])\n",
        "      break\n",
        "\n",
        "\n",
        "\n",
        "n = int(input())\n",
        "A = [int(x) for x in input().split()]\n",
        "m = int(input())\n",
        "B = [int(x) for x in input().split()]\n",
        "\n",
        "'''\n",
        "n = 6\n",
        "A = [2, 5, 4, 1, 7, 5]\n",
        "m = 7\n",
        "B = [2, 3, 1, 3, 2, 4, 6]\n",
        "'''\n",
        "\n",
        "max_can = min(A) + max(B)\n",
        "min_A = min(A)\n",
        "\n",
        "\n",
        "find(A, B, max_can, min_A, n, m)"
      ],
      "execution_count": 38,
      "outputs": [
        {
          "output_type": "stream",
          "text": [
            "5 3\n",
            "1 2\n",
            "3 3\n",
            "4 6\n"
          ],
          "name": "stdout"
        }
      ]
    }
  ]
}