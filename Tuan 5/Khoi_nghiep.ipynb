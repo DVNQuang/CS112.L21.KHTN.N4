{
  "nbformat": 4,
  "nbformat_minor": 0,
  "metadata": {
    "colab": {
      "name": "Khoi_nghiep.ipynb",
      "provenance": [],
      "include_colab_link": true
    },
    "kernelspec": {
      "name": "python3",
      "display_name": "Python 3"
    },
    "language_info": {
      "name": "python"
    }
  },
  "cells": [
    {
      "cell_type": "markdown",
      "metadata": {
        "id": "view-in-github",
        "colab_type": "text"
      },
      "source": [
        "<a href=\"https://colab.research.google.com/github/DVNQuang/CS112.L21.KHTN.N4/blob/main/Tuan%205/Khoi_nghiep.ipynb\" target=\"_parent\"><img src=\"https://colab.research.google.com/assets/colab-badge.svg\" alt=\"Open In Colab\"/></a>"
      ]
    },
    {
      "cell_type": "markdown",
      "metadata": {
        "id": "XzYJOCEMP8t8"
      },
      "source": [
        "# **KHỞI NGHIỆP**\n",
        "Sau thời gian làm việc tại nhà (work from home) do tình hình dịch bệnh, công ty X nhận thấy đây là cơ hội để thay đổi mô hình làm việc của công ty để hướng tới tính đơn giản, hiệu quả cao hơn trong công việc. Cụ thể, công ty hiện tại gồm $n$ nhân viên. Có $m$ quan hệ dạng $(a_i, b_i)$ trong đó người $b_i$ nhận công việc từ người $a_i$ và $a_i$ chỉ đạo cho $b_i$. Mỗi nhân viên khi nhận việc có thể phân công cho những nhân viên do mình chỉ đạo. Nếu công viêc từ $a$ có thể tới được $b$, ta gọi $a$ là cấp trên của $b$ và $b$ là cấp dưới của $a$.\n",
        "\n",
        "Sau khi họp đại hội cổ ccông trực tuyến, công ty X quyết định thực hiện tái cấu trúc như sau:\n",
        "* Thứ nhất, chọn ra một giám đốc, người này phải là người không có cấp trên và công việc mà người này phân công có thể tới được mọi người trong công ty;\n",
        "* Những người còn lại, mỗi người sẽ chỉ còn nhận việc trực tiếp từ đúng 1 người. Để tránh xáo trộn trong hoạt động sau khi thực hiện thay đổi, với mỗi người, tập những người là cấp trên của người đó phải không thay đổi (so với trước khi thực hiện tái cấu trúc).\n",
        "\n",
        "**Yêu cầu**: Xác định công ty X có thể tái cấu trúc hay không, nếu không được - đưa ra thông báo “No”. Trong trường hợp có thể – đưa ra thông báo “Yes” và chỉ ra dãy số $p_i$ xác định người có quyền phân công công việc cho người $i$ $(1 ≤ i ≤ n)$. Với Giám đốc $p_i$ tương ứng có giá trị là $-1$.\n",
        "\n",
        "Dữ liệu: Vào từ file thiết bị nhập chuẩn:\n",
        "\n",
        "* Dòng đầu tiên chứa 2 số nguyên $n$ và $m$ $(1 ≤ n, m ≤ 5×105)$,\n",
        "* Dòng thứ i trong $m$ dòng sau chứa 2 số nguyên $a_i$ và $b_i$ $(1 ≤ a_i, b_i ≤ n, a_i ≠ b_i)$.\n",
        "\n",
        "**Kết quả**: Đưa ra thiết bị xuất chuẩn thông báo “No” hoặc “Yes”. Nếu kết quả là “Yes” – trên dòng thứ 2 đưa ra $n$ số nguyên $p_1, p_2, . . ., p_n$ tương ứng.\n",
        "\n"
      ]
    },
    {
      "cell_type": "markdown",
      "metadata": {
        "id": "-XOA2dZxRJ2L"
      },
      "source": [
        "# Abstraction\n",
        "Cho đồ thị có hướng có n đỉnh và m cạnh\n",
        "\n",
        "> Chọn 1 đỉnh có cạnh đi ra nhưng không có cạnh đi vào\n",
        "> Tạo ra 1 cây khung đi qua các đỉnh sao cho không lặp lại đỉnh nào\n",
        "# Pattern Recognition\n",
        "Đồ thị có hướng\n",
        "\n",
        "Duyệt BFS từ đỉnh\n",
        "\n",
        "# Algorithm Design\n",
        "\n",
        "# Độ phức tạp thuật toán\n",
        "\n",
        "#Programming"
      ]
    },
    {
      "cell_type": "code",
      "metadata": {
        "colab": {
          "base_uri": "https://localhost:8080/"
        },
        "id": "hJQN-fpHqBek",
        "outputId": "6dbb13c5-0111-4b4f-9813-50216deef0e0"
      },
      "source": [
        "def check(num, A, B, n, m):\n",
        "  j = 0\n",
        "  for i in range(n):\n",
        "    if A[i] < num: \n",
        "      temp = False\n",
        "      while j < m:\n",
        "        if A[i] + B[j] >= num:\n",
        "          temp = True\n",
        "          j += 1\n",
        "          break\n",
        "        j += 1\n",
        "      if temp == False:\n",
        "        return False\n",
        "  return True\n",
        "\n",
        "          \n",
        "def find(A, B, max_can, min_A, n, m):\n",
        "  for i in range(max_can, min_A, -1):\n",
        "    if check(i, A, B, n, m) == True:\n",
        "      res = []\n",
        "      j = 0\n",
        "      for no in range(n): \n",
        "        if A[no] < i: \n",
        "          while j < m:\n",
        "            if A[no] + B[j] >= i:\n",
        "              res.append((no + 1, j + 1))\n",
        "              j += 1\n",
        "              break\n",
        "            j += 1\n",
        "\n",
        "      print(i, len(res))\n",
        "      for x in res:\n",
        "        print(x[0], x[1])\n",
        "      break\n",
        "\n",
        "\n",
        "\n",
        "n = int(input())\n",
        "A = [int(x) for x in input().split()]\n",
        "m = int(input())\n",
        "B = [int(x) for x in input().split()]\n",
        "\n",
        "'''\n",
        "n = 6\n",
        "A = [2, 5, 4, 1, 7, 5]\n",
        "m = 7\n",
        "B = [2, 3, 1, 3, 2, 4, 6]\n",
        "'''\n",
        "\n",
        "max_can = min(A) + max(B)\n",
        "min_A = min(A)\n",
        "\n",
        "\n",
        "find(A, B, max_can, min_A, n, m)"
      ],
      "execution_count": null,
      "outputs": [
        {
          "output_type": "stream",
          "text": [
            "5 3\n",
            "1 2\n",
            "3 3\n",
            "4 6\n"
          ],
          "name": "stdout"
        }
      ]
    }
  ]
}