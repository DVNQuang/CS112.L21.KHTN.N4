{
  "nbformat": 4,
  "nbformat_minor": 0,
  "metadata": {
    "colab": {
      "name": "Sudoku.ipynb",
      "provenance": [],
      "collapsed_sections": [],
      "authorship_tag": "ABX9TyONxBZyDiOTwB2caJiqFH6I",
      "include_colab_link": true
    },
    "kernelspec": {
      "name": "python3",
      "display_name": "Python 3"
    },
    "language_info": {
      "name": "python"
    }
  },
  "cells": [
    {
      "cell_type": "markdown",
      "metadata": {
        "id": "view-in-github",
        "colab_type": "text"
      },
      "source": [
        "<a href=\"https://colab.research.google.com/github/DVNQuang/CS112.L21.KHTN.N4/blob/main/Tuan%205/Sudoku.ipynb\" target=\"_parent\"><img src=\"https://colab.research.google.com/assets/colab-badge.svg\" alt=\"Open In Colab\"/></a>"
      ]
    },
    {
      "cell_type": "code",
      "metadata": {
        "id": "Qun56SzUfk6I"
      },
      "source": [
        ""
      ],
      "execution_count": 14,
      "outputs": []
    },
    {
      "cell_type": "code",
      "metadata": {
        "colab": {
          "base_uri": "https://localhost:8080/"
        },
        "id": "GHbs3yo_gSLF",
        "outputId": "35028446-c540-4e9c-8345-3c020da65d2f"
      },
      "source": [
        "def row(sudoku, r, v):\n",
        "  for i in range(9):\n",
        "    if sudoku[r][i] == v:\n",
        "      return False\n",
        "  return True\n",
        "\n",
        "def column(sudoku, c, v):\n",
        "  for i in range(9):\n",
        "    if sudoku[i][c] == v:\n",
        "      return False\n",
        "  return True\n",
        "  \n",
        "def square(sudoku, r, c, v):\n",
        "  for i in range(r // 3 * 3, r // 3 * 3 + 3):\n",
        "    for j in range(c // 3 * 3, c // 3 * 3 + 3):\n",
        "      if sudoku[i][j] == v:\n",
        "        return False\n",
        "  return True\n",
        "\n",
        "def print_sudoku(sudoku):\n",
        "  for i in range(9):\n",
        "    for j in range(9):\n",
        "      print(sudoku[i][j], end = \" \")\n",
        "    print()\n",
        "\n",
        "def Try(sudoku, r, c):\n",
        "  if r == 8 and c == 9:\n",
        "    return True\n",
        "\n",
        "  if c > 8:\n",
        "    r += 1\n",
        "    c = 0\n",
        "\n",
        "  if sudoku[r][c] >  0:\n",
        "    return Try(sudoku, r, c + 1)\n",
        "\n",
        "  for i in range(1, 10):\n",
        "    if row(sudoku, r, i) and column(sudoku, c, i) and square(sudoku, r, c, i):\n",
        "      sudoku[r][c] = i\n",
        "      if Try(sudoku, r, c + 1):\n",
        "        return True\n",
        "    sudoku[r][c] = 0\n",
        "\n",
        "  return False\n",
        "\n",
        "sudoku = [[0, 0, 1, 9, 0, 5, 0, 0, 7],\n",
        "          [2, 0, 0, 0, 3, 8, 0, 4, 9],\n",
        "          [0, 4, 0, 2, 7, 6, 5, 0, 1],\n",
        "          [0, 2, 0, 0, 0, 0, 0, 9, 6],\n",
        "          [0, 5, 4, 0, 0, 3, 0, 0, 0],\n",
        "          [1, 0, 9, 4, 8, 0, 7, 0, 0],\n",
        "          [0, 8, 7, 5, 0, 0, 9, 6, 0],\n",
        "          [0, 1, 0, 8, 0, 9, 0, 7, 4],\n",
        "          [0, 0, 0, 0, 6, 0, 0, 8, 0]]\n",
        "\n",
        "if (Try(sudoku, 0, 0)):\n",
        "  print_sudoku(sudoku)\n",
        "else:\n",
        "  print(-1)"
      ],
      "execution_count": 20,
      "outputs": [
        {
          "output_type": "stream",
          "text": [
            "6 3 1 9 4 5 8 2 7 \n",
            "2 7 5 1 3 8 6 4 9 \n",
            "9 4 8 2 7 6 5 3 1 \n",
            "8 2 3 7 5 1 4 9 6 \n",
            "7 5 4 6 9 3 2 1 8 \n",
            "1 6 9 4 8 2 7 5 3 \n",
            "3 8 7 5 1 4 9 6 2 \n",
            "5 1 6 8 2 9 3 7 4 \n",
            "4 9 2 3 6 7 1 8 5 \n"
          ],
          "name": "stdout"
        }
      ]
    }
  ]
}